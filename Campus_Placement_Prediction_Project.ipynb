{
  "cells": [
    {
      "cell_type": "markdown",
      "source": [
        "# Setup & Library Installation"
      ],
      "metadata": {
        "id": "9SQOyB5ZQpyb"
      },
      "id": "9SQOyB5ZQpyb"
    },
    {
      "cell_type": "markdown",
      "id": "9b3dc7d8",
      "metadata": {
        "id": "9b3dc7d8"
      },
      "source": [
        "## Install Required Packages"
      ]
    },
    {
      "cell_type": "code",
      "execution_count": 12,
      "id": "b38f47d1",
      "metadata": {
        "colab": {
          "base_uri": "https://localhost:8080/"
        },
        "id": "b38f47d1",
        "outputId": "f5f2cfb4-bf90-4077-e1be-6caf9609792d"
      },
      "outputs": [
        {
          "output_type": "stream",
          "name": "stdout",
          "text": [
            "Requirement already satisfied: pip in /usr/local/lib/python3.11/dist-packages (25.1.1)\n",
            "Requirement already satisfied: setuptools in /usr/local/lib/python3.11/dist-packages (80.4.0)\n",
            "Requirement already satisfied: wheel in /usr/local/lib/python3.11/dist-packages (0.45.1)\n",
            "  Preparing metadata (setup.py) ... \u001b[?25l\u001b[?25hdone\n"
          ]
        }
      ],
      "source": [
        "# Install all required packages with compatible versions\n",
        "!pip install -U pip setuptools wheel\n",
        "\n",
        "# Install all required data science and ML packages\n",
        "!pip install \\\n",
        "    pandas==2.2.2 numpy==1.24.3 \\\n",
        "    scikit-learn xgboost imbalanced-learn scipy \\\n",
        "    seaborn matplotlib plotly \\\n",
        "    shap lime tpot flaml \\\n",
        "    fastapi[all] uvicorn streamlit dvc \\\n",
        "    evidently==0.3.2 aif360 mlflow docker joblib \\\n",
        "    --quiet --upgrade"
      ]
    },
    {
      "cell_type": "code",
      "source": [
        "!pip install -U evidently==0.3.2"
      ],
      "metadata": {
        "colab": {
          "base_uri": "https://localhost:8080/"
        },
        "id": "1vkmqB9Y8uZf",
        "outputId": "107fe81f-8f29-49f8-b842-e5bf44f2c409"
      },
      "id": "1vkmqB9Y8uZf",
      "execution_count": 13,
      "outputs": [
        {
          "output_type": "stream",
          "name": "stdout",
          "text": [
            "Requirement already satisfied: evidently==0.3.2 in /usr/local/lib/python3.11/dist-packages (0.3.2)\n",
            "Requirement already satisfied: plotly>=5.5.0 in /usr/local/lib/python3.11/dist-packages (from evidently==0.3.2) (6.0.1)\n",
            "Requirement already satisfied: statsmodels>=0.12.2 in /usr/local/lib/python3.11/dist-packages (from evidently==0.3.2) (0.14.4)\n",
            "Requirement already satisfied: scikit-learn>=0.24.0 in /usr/local/lib/python3.11/dist-packages (from evidently==0.3.2) (1.6.1)\n",
            "Requirement already satisfied: pandas>=1.3.5 in /usr/local/lib/python3.11/dist-packages (from evidently==0.3.2) (2.2.2)\n",
            "Requirement already satisfied: numpy>=1.19.5 in /usr/local/lib/python3.11/dist-packages (from evidently==0.3.2) (1.24.3)\n",
            "Requirement already satisfied: nltk>=3.6.7 in /usr/local/lib/python3.11/dist-packages (from evidently==0.3.2) (3.9.1)\n",
            "Requirement already satisfied: umap-learn>=0.5.3 in /usr/local/lib/python3.11/dist-packages (from evidently==0.3.2) (0.5.7)\n",
            "Requirement already satisfied: scipy>=1.5.4 in /usr/local/lib/python3.11/dist-packages (from evidently==0.3.2) (1.15.3)\n",
            "Requirement already satisfied: requests>=2.19.0 in /usr/local/lib/python3.11/dist-packages (from evidently==0.3.2) (2.32.3)\n",
            "Requirement already satisfied: PyYAML>=5.1 in /usr/local/lib/python3.11/dist-packages (from evidently==0.3.2) (6.0.2)\n",
            "Requirement already satisfied: pydantic<2,>=1.9 in /usr/local/lib/python3.11/dist-packages (from evidently==0.3.2) (1.10.22)\n",
            "Requirement already satisfied: typing-extensions>=4.2.0 in /usr/local/lib/python3.11/dist-packages (from pydantic<2,>=1.9->evidently==0.3.2) (4.13.2)\n",
            "Requirement already satisfied: click in /usr/local/lib/python3.11/dist-packages (from nltk>=3.6.7->evidently==0.3.2) (8.1.8)\n",
            "Requirement already satisfied: joblib in /usr/local/lib/python3.11/dist-packages (from nltk>=3.6.7->evidently==0.3.2) (1.5.0)\n",
            "Requirement already satisfied: regex>=2021.8.3 in /usr/local/lib/python3.11/dist-packages (from nltk>=3.6.7->evidently==0.3.2) (2024.11.6)\n",
            "Requirement already satisfied: tqdm in /usr/local/lib/python3.11/dist-packages (from nltk>=3.6.7->evidently==0.3.2) (4.67.1)\n",
            "Requirement already satisfied: python-dateutil>=2.8.2 in /usr/local/lib/python3.11/dist-packages (from pandas>=1.3.5->evidently==0.3.2) (2.9.0.post0)\n",
            "Requirement already satisfied: pytz>=2020.1 in /usr/local/lib/python3.11/dist-packages (from pandas>=1.3.5->evidently==0.3.2) (2025.2)\n",
            "Requirement already satisfied: tzdata>=2022.7 in /usr/local/lib/python3.11/dist-packages (from pandas>=1.3.5->evidently==0.3.2) (2025.2)\n",
            "Requirement already satisfied: narwhals>=1.15.1 in /usr/local/lib/python3.11/dist-packages (from plotly>=5.5.0->evidently==0.3.2) (1.38.2)\n",
            "Requirement already satisfied: packaging in /usr/local/lib/python3.11/dist-packages (from plotly>=5.5.0->evidently==0.3.2) (24.2)\n",
            "Requirement already satisfied: six>=1.5 in /usr/local/lib/python3.11/dist-packages (from python-dateutil>=2.8.2->pandas>=1.3.5->evidently==0.3.2) (1.17.0)\n",
            "Requirement already satisfied: charset-normalizer<4,>=2 in /usr/local/lib/python3.11/dist-packages (from requests>=2.19.0->evidently==0.3.2) (3.4.2)\n",
            "Requirement already satisfied: idna<4,>=2.5 in /usr/local/lib/python3.11/dist-packages (from requests>=2.19.0->evidently==0.3.2) (3.10)\n",
            "Requirement already satisfied: urllib3<3,>=1.21.1 in /usr/local/lib/python3.11/dist-packages (from requests>=2.19.0->evidently==0.3.2) (2.4.0)\n",
            "Requirement already satisfied: certifi>=2017.4.17 in /usr/local/lib/python3.11/dist-packages (from requests>=2.19.0->evidently==0.3.2) (2025.4.26)\n",
            "Requirement already satisfied: threadpoolctl>=3.1.0 in /usr/local/lib/python3.11/dist-packages (from scikit-learn>=0.24.0->evidently==0.3.2) (3.6.0)\n",
            "Requirement already satisfied: patsy>=0.5.6 in /usr/local/lib/python3.11/dist-packages (from statsmodels>=0.12.2->evidently==0.3.2) (1.0.1)\n",
            "Requirement already satisfied: numba>=0.51.2 in /usr/local/lib/python3.11/dist-packages (from umap-learn>=0.5.3->evidently==0.3.2) (0.60.0)\n",
            "Requirement already satisfied: pynndescent>=0.5 in /usr/local/lib/python3.11/dist-packages (from umap-learn>=0.5.3->evidently==0.3.2) (0.5.13)\n",
            "Requirement already satisfied: llvmlite<0.44,>=0.43.0dev0 in /usr/local/lib/python3.11/dist-packages (from numba>=0.51.2->umap-learn>=0.5.3->evidently==0.3.2) (0.43.0)\n"
          ]
        }
      ]
    },
    {
      "cell_type": "code",
      "source": [
        "!pip install aif360"
      ],
      "metadata": {
        "colab": {
          "base_uri": "https://localhost:8080/"
        },
        "id": "-s8mt1oY9Z-F",
        "outputId": "ba96a271-4d8d-4d44-ad44-0e91a57239a9"
      },
      "id": "-s8mt1oY9Z-F",
      "execution_count": 14,
      "outputs": [
        {
          "output_type": "stream",
          "name": "stdout",
          "text": [
            "Requirement already satisfied: aif360 in /usr/local/lib/python3.11/dist-packages (0.6.1)\n",
            "Requirement already satisfied: numpy>=1.16 in /usr/local/lib/python3.11/dist-packages (from aif360) (1.24.3)\n",
            "Requirement already satisfied: scipy>=1.2.0 in /usr/local/lib/python3.11/dist-packages (from aif360) (1.15.3)\n",
            "Requirement already satisfied: pandas>=0.24.0 in /usr/local/lib/python3.11/dist-packages (from aif360) (2.2.2)\n",
            "Requirement already satisfied: scikit-learn>=1.0 in /usr/local/lib/python3.11/dist-packages (from aif360) (1.6.1)\n",
            "Requirement already satisfied: matplotlib in /usr/local/lib/python3.11/dist-packages (from aif360) (3.10.3)\n",
            "Requirement already satisfied: python-dateutil>=2.8.2 in /usr/local/lib/python3.11/dist-packages (from pandas>=0.24.0->aif360) (2.9.0.post0)\n",
            "Requirement already satisfied: pytz>=2020.1 in /usr/local/lib/python3.11/dist-packages (from pandas>=0.24.0->aif360) (2025.2)\n",
            "Requirement already satisfied: tzdata>=2022.7 in /usr/local/lib/python3.11/dist-packages (from pandas>=0.24.0->aif360) (2025.2)\n",
            "Requirement already satisfied: six>=1.5 in /usr/local/lib/python3.11/dist-packages (from python-dateutil>=2.8.2->pandas>=0.24.0->aif360) (1.17.0)\n",
            "Requirement already satisfied: joblib>=1.2.0 in /usr/local/lib/python3.11/dist-packages (from scikit-learn>=1.0->aif360) (1.5.0)\n",
            "Requirement already satisfied: threadpoolctl>=3.1.0 in /usr/local/lib/python3.11/dist-packages (from scikit-learn>=1.0->aif360) (3.6.0)\n",
            "Requirement already satisfied: contourpy>=1.0.1 in /usr/local/lib/python3.11/dist-packages (from matplotlib->aif360) (1.3.2)\n",
            "Requirement already satisfied: cycler>=0.10 in /usr/local/lib/python3.11/dist-packages (from matplotlib->aif360) (0.12.1)\n",
            "Requirement already satisfied: fonttools>=4.22.0 in /usr/local/lib/python3.11/dist-packages (from matplotlib->aif360) (4.57.0)\n",
            "Requirement already satisfied: kiwisolver>=1.3.1 in /usr/local/lib/python3.11/dist-packages (from matplotlib->aif360) (1.4.8)\n",
            "Requirement already satisfied: packaging>=20.0 in /usr/local/lib/python3.11/dist-packages (from matplotlib->aif360) (24.2)\n",
            "Requirement already satisfied: pillow>=8 in /usr/local/lib/python3.11/dist-packages (from matplotlib->aif360) (11.2.1)\n",
            "Requirement already satisfied: pyparsing>=2.3.1 in /usr/local/lib/python3.11/dist-packages (from matplotlib->aif360) (3.2.3)\n"
          ]
        }
      ]
    },
    {
      "cell_type": "code",
      "source": [
        "!pip install flaml"
      ],
      "metadata": {
        "colab": {
          "base_uri": "https://localhost:8080/"
        },
        "id": "Ru2YCypE-yzC",
        "outputId": "ef334b60-f97c-4239-d2f5-eb7fa199c5c2"
      },
      "id": "Ru2YCypE-yzC",
      "execution_count": 15,
      "outputs": [
        {
          "output_type": "stream",
          "name": "stdout",
          "text": [
            "Requirement already satisfied: flaml in /usr/local/lib/python3.11/dist-packages (2.3.4)\n",
            "Requirement already satisfied: NumPy>=1.17 in /usr/local/lib/python3.11/dist-packages (from flaml) (1.24.3)\n"
          ]
        }
      ]
    },
    {
      "cell_type": "code",
      "source": [
        "pip install numpy==1.26.4"
      ],
      "metadata": {
        "colab": {
          "base_uri": "https://localhost:8080/"
        },
        "id": "DH8pQDw59-ia",
        "outputId": "4e86ec6d-ef18-4498-b1b7-af00da562fff"
      },
      "id": "DH8pQDw59-ia",
      "execution_count": 46,
      "outputs": [
        {
          "output_type": "stream",
          "name": "stdout",
          "text": [
            "Collecting numpy==1.26.4\n",
            "  Downloading numpy-1.26.4-cp311-cp311-manylinux_2_17_x86_64.manylinux2014_x86_64.whl.metadata (61 kB)\n",
            "Downloading numpy-1.26.4-cp311-cp311-manylinux_2_17_x86_64.manylinux2014_x86_64.whl (18.3 MB)\n",
            "\u001b[2K   \u001b[90m━━━━━━━━━━━━━━━━━━━━━━━━━━━━━━━━━━━━━━━━\u001b[0m \u001b[32m18.3/18.3 MB\u001b[0m \u001b[31m22.5 MB/s\u001b[0m eta \u001b[36m0:00:00\u001b[0m\n",
            "\u001b[?25hInstalling collected packages: numpy\n",
            "  Attempting uninstall: numpy\n",
            "    Found existing installation: numpy 1.24.3\n",
            "    Uninstalling numpy-1.24.3:\n",
            "      Successfully uninstalled numpy-1.24.3\n",
            "\u001b[31mERROR: pip's dependency resolver does not currently take into account all the packages that are installed. This behaviour is the source of the following dependency conflicts.\n",
            "albumentations 2.0.6 requires pydantic>=2.9.2, but you have pydantic 1.10.22 which is incompatible.\n",
            "thinc 8.3.6 requires numpy<3.0.0,>=2.0.0, but you have numpy 1.26.4 which is incompatible.\n",
            "thinc 8.3.6 requires pydantic<3.0.0,>=2.0.0, but you have pydantic 1.10.22 which is incompatible.\u001b[0m\u001b[31m\n",
            "\u001b[0mSuccessfully installed numpy-1.26.4\n"
          ]
        }
      ]
    },
    {
      "cell_type": "code",
      "source": [
        "pip install --upgrade evidently"
      ],
      "metadata": {
        "colab": {
          "base_uri": "https://localhost:8080/"
        },
        "id": "XjqIWiFp-XKS",
        "outputId": "915c92ab-8e38-4d19-feab-1a4bc74d2f11"
      },
      "id": "XjqIWiFp-XKS",
      "execution_count": 48,
      "outputs": [
        {
          "output_type": "stream",
          "name": "stdout",
          "text": [
            "Requirement already satisfied: evidently in /usr/local/lib/python3.11/dist-packages (0.3.2)\n",
            "Collecting evidently\n",
            "  Downloading evidently-0.7.5-py3-none-any.whl.metadata (10 kB)\n",
            "Collecting plotly<6,>=5.10.0 (from evidently)\n",
            "  Downloading plotly-5.24.1-py3-none-any.whl.metadata (7.3 kB)\n",
            "Requirement already satisfied: statsmodels>=0.12.2 in /usr/local/lib/python3.11/dist-packages (from evidently) (0.14.4)\n",
            "Requirement already satisfied: scikit-learn>=1.0.1 in /usr/local/lib/python3.11/dist-packages (from evidently) (1.6.1)\n",
            "Requirement already satisfied: pandas>=1.3.5 in /usr/local/lib/python3.11/dist-packages (from pandas[parquet]>=1.3.5->evidently) (2.2.2)\n",
            "Requirement already satisfied: numpy>=1.22.0 in /usr/local/lib/python3.11/dist-packages (from evidently) (1.26.4)\n",
            "Requirement already satisfied: nltk>=3.6.7 in /usr/local/lib/python3.11/dist-packages (from evidently) (3.9.1)\n",
            "Requirement already satisfied: scipy>=1.10.0 in /usr/local/lib/python3.11/dist-packages (from evidently) (1.15.3)\n",
            "Requirement already satisfied: requests>=2.32.0 in /usr/local/lib/python3.11/dist-packages (from evidently) (2.32.3)\n",
            "Requirement already satisfied: PyYAML>=5.4 in /usr/local/lib/python3.11/dist-packages (from evidently) (6.0.2)\n",
            "Requirement already satisfied: pydantic>=1.10.16 in /usr/local/lib/python3.11/dist-packages (from evidently) (1.10.22)\n",
            "Collecting litestar>=2.8.3 (from evidently)\n",
            "  Downloading litestar-2.16.0-py3-none-any.whl.metadata (110 kB)\n",
            "Collecting typing-inspect>=0.9.0 (from evidently)\n",
            "  Downloading typing_inspect-0.9.0-py3-none-any.whl.metadata (1.5 kB)\n",
            "Requirement already satisfied: uvicorn>=0.22.0 in /usr/local/lib/python3.11/dist-packages (from uvicorn[standard]>=0.22.0->evidently) (0.34.2)\n",
            "Requirement already satisfied: watchdog>=3.0.0 in /usr/local/lib/python3.11/dist-packages (from evidently) (6.0.0)\n",
            "Requirement already satisfied: typer>=0.3 in /usr/local/lib/python3.11/dist-packages (from evidently) (0.15.3)\n",
            "Requirement already satisfied: rich>=13 in /usr/local/lib/python3.11/dist-packages (from evidently) (13.9.4)\n",
            "Requirement already satisfied: iterative-telemetry>=0.0.5 in /usr/local/lib/python3.11/dist-packages (from evidently) (0.0.10)\n",
            "Collecting dynaconf>=3.2.4 (from evidently)\n",
            "  Downloading dynaconf-3.2.11-py2.py3-none-any.whl.metadata (9.2 kB)\n",
            "Requirement already satisfied: certifi>=2024.7.4 in /usr/local/lib/python3.11/dist-packages (from evidently) (2025.4.26)\n",
            "Requirement already satisfied: urllib3>=1.26.19 in /usr/local/lib/python3.11/dist-packages (from evidently) (2.4.0)\n",
            "Requirement already satisfied: fsspec>=2024.6.1 in /usr/local/lib/python3.11/dist-packages (from evidently) (2025.3.2)\n",
            "Requirement already satisfied: ujson>=5.4.0 in /usr/local/lib/python3.11/dist-packages (from evidently) (5.10.0)\n",
            "Collecting deprecation>=2.1.0 (from evidently)\n",
            "  Downloading deprecation-2.1.0-py2.py3-none-any.whl.metadata (4.6 kB)\n",
            "Collecting uuid6>=2024.7.10 (from evidently)\n",
            "  Downloading uuid6-2024.7.10-py3-none-any.whl.metadata (8.6 kB)\n",
            "Requirement already satisfied: cryptography>=43.0.1 in /usr/local/lib/python3.11/dist-packages (from evidently) (43.0.3)\n",
            "Requirement already satisfied: tenacity>=6.2.0 in /usr/local/lib/python3.11/dist-packages (from plotly<6,>=5.10.0->evidently) (9.1.2)\n",
            "Requirement already satisfied: packaging in /usr/local/lib/python3.11/dist-packages (from plotly<6,>=5.10.0->evidently) (24.2)\n",
            "Requirement already satisfied: cffi>=1.12 in /usr/local/lib/python3.11/dist-packages (from cryptography>=43.0.1->evidently) (1.17.1)\n",
            "Requirement already satisfied: pycparser in /usr/local/lib/python3.11/dist-packages (from cffi>=1.12->cryptography>=43.0.1->evidently) (2.22)\n",
            "Requirement already satisfied: appdirs in /usr/local/lib/python3.11/dist-packages (from iterative-telemetry>=0.0.5->evidently) (1.4.4)\n",
            "Requirement already satisfied: filelock in /usr/local/lib/python3.11/dist-packages (from iterative-telemetry>=0.0.5->evidently) (3.18.0)\n",
            "Requirement already satisfied: distro in /usr/local/lib/python3.11/dist-packages (from iterative-telemetry>=0.0.5->evidently) (1.9.0)\n",
            "Requirement already satisfied: anyio>=3 in /usr/local/lib/python3.11/dist-packages (from litestar>=2.8.3->evidently) (4.9.0)\n",
            "Requirement already satisfied: click in /usr/local/lib/python3.11/dist-packages (from litestar>=2.8.3->evidently) (8.1.8)\n",
            "Requirement already satisfied: httpx>=0.22 in /usr/local/lib/python3.11/dist-packages (from litestar>=2.8.3->evidently) (0.28.1)\n",
            "Collecting litestar-htmx>=0.4.0 (from litestar>=2.8.3->evidently)\n",
            "  Downloading litestar_htmx-0.4.1-py3-none-any.whl.metadata (2.0 kB)\n",
            "Collecting msgspec>=0.18.2 (from litestar>=2.8.3->evidently)\n",
            "  Downloading msgspec-0.19.0-cp311-cp311-manylinux_2_17_x86_64.manylinux2014_x86_64.whl.metadata (6.9 kB)\n",
            "Requirement already satisfied: multidict>=6.0.2 in /usr/local/lib/python3.11/dist-packages (from litestar>=2.8.3->evidently) (6.4.3)\n",
            "Collecting multipart>=1.2.0 (from litestar>=2.8.3->evidently)\n",
            "  Downloading multipart-1.2.1-py3-none-any.whl.metadata (4.4 kB)\n",
            "Collecting polyfactory>=2.6.3 (from litestar>=2.8.3->evidently)\n",
            "  Downloading polyfactory-2.21.0-py3-none-any.whl.metadata (27 kB)\n",
            "Collecting rich-click (from litestar>=2.8.3->evidently)\n",
            "  Downloading rich_click-1.8.8-py3-none-any.whl.metadata (7.9 kB)\n",
            "Requirement already satisfied: typing-extensions in /usr/local/lib/python3.11/dist-packages (from litestar>=2.8.3->evidently) (4.13.2)\n",
            "Requirement already satisfied: idna>=2.8 in /usr/local/lib/python3.11/dist-packages (from anyio>=3->litestar>=2.8.3->evidently) (3.10)\n",
            "Requirement already satisfied: sniffio>=1.1 in /usr/local/lib/python3.11/dist-packages (from anyio>=3->litestar>=2.8.3->evidently) (1.3.1)\n",
            "Requirement already satisfied: httpcore==1.* in /usr/local/lib/python3.11/dist-packages (from httpx>=0.22->litestar>=2.8.3->evidently) (1.0.9)\n",
            "Requirement already satisfied: h11>=0.16 in /usr/local/lib/python3.11/dist-packages (from httpcore==1.*->httpx>=0.22->litestar>=2.8.3->evidently) (0.16.0)\n",
            "Requirement already satisfied: joblib in /usr/local/lib/python3.11/dist-packages (from nltk>=3.6.7->evidently) (1.5.0)\n",
            "Requirement already satisfied: regex>=2021.8.3 in /usr/local/lib/python3.11/dist-packages (from nltk>=3.6.7->evidently) (2024.11.6)\n",
            "Requirement already satisfied: tqdm in /usr/local/lib/python3.11/dist-packages (from nltk>=3.6.7->evidently) (4.67.1)\n",
            "Requirement already satisfied: python-dateutil>=2.8.2 in /usr/local/lib/python3.11/dist-packages (from pandas>=1.3.5->pandas[parquet]>=1.3.5->evidently) (2.9.0.post0)\n",
            "Requirement already satisfied: pytz>=2020.1 in /usr/local/lib/python3.11/dist-packages (from pandas>=1.3.5->pandas[parquet]>=1.3.5->evidently) (2025.2)\n",
            "Requirement already satisfied: tzdata>=2022.7 in /usr/local/lib/python3.11/dist-packages (from pandas>=1.3.5->pandas[parquet]>=1.3.5->evidently) (2025.2)\n",
            "Requirement already satisfied: pyarrow>=10.0.1 in /usr/local/lib/python3.11/dist-packages (from pandas[parquet]>=1.3.5->evidently) (18.1.0)\n",
            "Collecting faker>=5.0.0 (from polyfactory>=2.6.3->litestar>=2.8.3->evidently)\n",
            "  Downloading faker-37.3.0-py3-none-any.whl.metadata (15 kB)\n",
            "Requirement already satisfied: six>=1.5 in /usr/local/lib/python3.11/dist-packages (from python-dateutil>=2.8.2->pandas>=1.3.5->pandas[parquet]>=1.3.5->evidently) (1.17.0)\n",
            "Requirement already satisfied: charset-normalizer<4,>=2 in /usr/local/lib/python3.11/dist-packages (from requests>=2.32.0->evidently) (3.4.2)\n",
            "Requirement already satisfied: markdown-it-py>=2.2.0 in /usr/local/lib/python3.11/dist-packages (from rich>=13->evidently) (3.0.0)\n",
            "Requirement already satisfied: pygments<3.0.0,>=2.13.0 in /usr/local/lib/python3.11/dist-packages (from rich>=13->evidently) (2.19.1)\n",
            "Requirement already satisfied: mdurl~=0.1 in /usr/local/lib/python3.11/dist-packages (from markdown-it-py>=2.2.0->rich>=13->evidently) (0.1.2)\n",
            "Requirement already satisfied: threadpoolctl>=3.1.0 in /usr/local/lib/python3.11/dist-packages (from scikit-learn>=1.0.1->evidently) (3.6.0)\n",
            "Requirement already satisfied: patsy>=0.5.6 in /usr/local/lib/python3.11/dist-packages (from statsmodels>=0.12.2->evidently) (1.0.1)\n",
            "Requirement already satisfied: shellingham>=1.3.0 in /usr/local/lib/python3.11/dist-packages (from typer>=0.3->evidently) (1.5.4)\n",
            "Collecting mypy-extensions>=0.3.0 (from typing-inspect>=0.9.0->evidently)\n",
            "  Downloading mypy_extensions-1.1.0-py3-none-any.whl.metadata (1.1 kB)\n",
            "Requirement already satisfied: httptools>=0.6.3 in /usr/local/lib/python3.11/dist-packages (from uvicorn[standard]>=0.22.0->evidently) (0.6.4)\n",
            "Requirement already satisfied: python-dotenv>=0.13 in /usr/local/lib/python3.11/dist-packages (from uvicorn[standard]>=0.22.0->evidently) (1.1.0)\n",
            "Requirement already satisfied: uvloop!=0.15.0,!=0.15.1,>=0.14.0 in /usr/local/lib/python3.11/dist-packages (from uvicorn[standard]>=0.22.0->evidently) (0.21.0)\n",
            "Requirement already satisfied: watchfiles>=0.13 in /usr/local/lib/python3.11/dist-packages (from uvicorn[standard]>=0.22.0->evidently) (1.0.5)\n",
            "Requirement already satisfied: websockets>=10.4 in /usr/local/lib/python3.11/dist-packages (from uvicorn[standard]>=0.22.0->evidently) (15.0.1)\n",
            "Downloading evidently-0.7.5-py3-none-any.whl (5.2 MB)\n",
            "\u001b[2K   \u001b[90m━━━━━━━━━━━━━━━━━━━━━━━━━━━━━━━━━━━━━━━━\u001b[0m \u001b[32m5.2/5.2 MB\u001b[0m \u001b[31m47.4 MB/s\u001b[0m eta \u001b[36m0:00:00\u001b[0m\n",
            "\u001b[?25hDownloading plotly-5.24.1-py3-none-any.whl (19.1 MB)\n",
            "\u001b[2K   \u001b[90m━━━━━━━━━━━━━━━━━━━━━━━━━━━━━━━━━━━━━━━━\u001b[0m \u001b[32m19.1/19.1 MB\u001b[0m \u001b[31m86.7 MB/s\u001b[0m eta \u001b[36m0:00:00\u001b[0m\n",
            "\u001b[?25hDownloading deprecation-2.1.0-py2.py3-none-any.whl (11 kB)\n",
            "Downloading dynaconf-3.2.11-py2.py3-none-any.whl (236 kB)\n",
            "Downloading litestar-2.16.0-py3-none-any.whl (573 kB)\n",
            "\u001b[2K   \u001b[90m━━━━━━━━━━━━━━━━━━━━━━━━━━━━━━━━━━━━━━━━\u001b[0m \u001b[32m573.2/573.2 kB\u001b[0m \u001b[31m11.7 MB/s\u001b[0m eta \u001b[36m0:00:00\u001b[0m\n",
            "\u001b[?25hDownloading litestar_htmx-0.4.1-py3-none-any.whl (10.0 kB)\n",
            "Downloading msgspec-0.19.0-cp311-cp311-manylinux_2_17_x86_64.manylinux2014_x86_64.whl (210 kB)\n",
            "Downloading multipart-1.2.1-py3-none-any.whl (13 kB)\n",
            "Downloading polyfactory-2.21.0-py3-none-any.whl (60 kB)\n",
            "Downloading faker-37.3.0-py3-none-any.whl (1.9 MB)\n",
            "\u001b[2K   \u001b[90m━━━━━━━━━━━━━━━━━━━━━━━━━━━━━━━━━━━━━━━━\u001b[0m \u001b[32m1.9/1.9 MB\u001b[0m \u001b[31m64.5 MB/s\u001b[0m eta \u001b[36m0:00:00\u001b[0m\n",
            "\u001b[?25hDownloading typing_inspect-0.9.0-py3-none-any.whl (8.8 kB)\n",
            "Downloading mypy_extensions-1.1.0-py3-none-any.whl (5.0 kB)\n",
            "Downloading uuid6-2024.7.10-py3-none-any.whl (6.4 kB)\n",
            "Downloading rich_click-1.8.8-py3-none-any.whl (35 kB)\n",
            "Installing collected packages: uuid6, plotly, mypy-extensions, multipart, msgspec, litestar-htmx, faker, dynaconf, deprecation, typing-inspect, polyfactory, rich-click, litestar, evidently\n",
            "\u001b[2K  Attempting uninstall: plotly\n",
            "\u001b[2K    Found existing installation: plotly 6.0.1\n",
            "\u001b[2K    Uninstalling plotly-6.0.1:\n",
            "\u001b[2K      Successfully uninstalled plotly-6.0.1\n",
            "\u001b[2K  Attempting uninstall: evidently\n",
            "\u001b[2K    Found existing installation: evidently 0.3.2\n",
            "\u001b[2K    Uninstalling evidently-0.3.2:\n",
            "\u001b[2K      Successfully uninstalled evidently-0.3.2\n",
            "\u001b[2K   \u001b[90m━━━━━━━━━━━━━━━━━━━━━━━━━━━━━━━━━━━━━━━━\u001b[0m \u001b[32m14/14\u001b[0m [evidently]\n",
            "\u001b[1A\u001b[2KSuccessfully installed deprecation-2.1.0 dynaconf-3.2.11 evidently-0.7.5 faker-37.3.0 litestar-2.16.0 litestar-htmx-0.4.1 msgspec-0.19.0 multipart-1.2.1 mypy-extensions-1.1.0 plotly-5.24.1 polyfactory-2.21.0 rich-click-1.8.8 typing-inspect-0.9.0 uuid6-2024.7.10\n"
          ]
        }
      ]
    },
    {
      "cell_type": "code",
      "source": [
        "!pip uninstall evidently -y\n",
        "!pip install evidently==0.3.2"
      ],
      "metadata": {
        "colab": {
          "base_uri": "https://localhost:8080/",
          "height": 880
        },
        "id": "FG4Yh2h0-pSi",
        "outputId": "d6d3c6b4-3e31-4e00-a091-14723b2ae955"
      },
      "id": "FG4Yh2h0-pSi",
      "execution_count": 51,
      "outputs": [
        {
          "output_type": "stream",
          "name": "stdout",
          "text": [
            "Found existing installation: evidently 0.7.5\n",
            "Uninstalling evidently-0.7.5:\n",
            "  Successfully uninstalled evidently-0.7.5\n",
            "Collecting evidently==0.3.2\n",
            "  Using cached evidently-0.3.2-py3-none-any.whl.metadata (1.4 kB)\n",
            "Requirement already satisfied: plotly>=5.5.0 in /usr/local/lib/python3.11/dist-packages (from evidently==0.3.2) (5.24.1)\n",
            "Requirement already satisfied: statsmodels>=0.12.2 in /usr/local/lib/python3.11/dist-packages (from evidently==0.3.2) (0.14.4)\n",
            "Requirement already satisfied: scikit-learn>=0.24.0 in /usr/local/lib/python3.11/dist-packages (from evidently==0.3.2) (1.6.1)\n",
            "Requirement already satisfied: pandas>=1.3.5 in /usr/local/lib/python3.11/dist-packages (from evidently==0.3.2) (2.2.2)\n",
            "Requirement already satisfied: numpy>=1.19.5 in /usr/local/lib/python3.11/dist-packages (from evidently==0.3.2) (1.26.4)\n",
            "Requirement already satisfied: nltk>=3.6.7 in /usr/local/lib/python3.11/dist-packages (from evidently==0.3.2) (3.9.1)\n",
            "Requirement already satisfied: umap-learn>=0.5.3 in /usr/local/lib/python3.11/dist-packages (from evidently==0.3.2) (0.5.7)\n",
            "Requirement already satisfied: scipy>=1.5.4 in /usr/local/lib/python3.11/dist-packages (from evidently==0.3.2) (1.15.3)\n",
            "Requirement already satisfied: requests>=2.19.0 in /usr/local/lib/python3.11/dist-packages (from evidently==0.3.2) (2.32.3)\n",
            "Requirement already satisfied: PyYAML>=5.1 in /usr/local/lib/python3.11/dist-packages (from evidently==0.3.2) (6.0.2)\n",
            "Requirement already satisfied: pydantic<2,>=1.9 in /usr/local/lib/python3.11/dist-packages (from evidently==0.3.2) (1.10.22)\n",
            "Requirement already satisfied: typing-extensions>=4.2.0 in /usr/local/lib/python3.11/dist-packages (from pydantic<2,>=1.9->evidently==0.3.2) (4.13.2)\n",
            "Requirement already satisfied: click in /usr/local/lib/python3.11/dist-packages (from nltk>=3.6.7->evidently==0.3.2) (8.1.8)\n",
            "Requirement already satisfied: joblib in /usr/local/lib/python3.11/dist-packages (from nltk>=3.6.7->evidently==0.3.2) (1.5.0)\n",
            "Requirement already satisfied: regex>=2021.8.3 in /usr/local/lib/python3.11/dist-packages (from nltk>=3.6.7->evidently==0.3.2) (2024.11.6)\n",
            "Requirement already satisfied: tqdm in /usr/local/lib/python3.11/dist-packages (from nltk>=3.6.7->evidently==0.3.2) (4.67.1)\n",
            "Requirement already satisfied: python-dateutil>=2.8.2 in /usr/local/lib/python3.11/dist-packages (from pandas>=1.3.5->evidently==0.3.2) (2.9.0.post0)\n",
            "Requirement already satisfied: pytz>=2020.1 in /usr/local/lib/python3.11/dist-packages (from pandas>=1.3.5->evidently==0.3.2) (2025.2)\n",
            "Requirement already satisfied: tzdata>=2022.7 in /usr/local/lib/python3.11/dist-packages (from pandas>=1.3.5->evidently==0.3.2) (2025.2)\n",
            "Requirement already satisfied: tenacity>=6.2.0 in /usr/local/lib/python3.11/dist-packages (from plotly>=5.5.0->evidently==0.3.2) (9.1.2)\n",
            "Requirement already satisfied: packaging in /usr/local/lib/python3.11/dist-packages (from plotly>=5.5.0->evidently==0.3.2) (24.2)\n",
            "Requirement already satisfied: six>=1.5 in /usr/local/lib/python3.11/dist-packages (from python-dateutil>=2.8.2->pandas>=1.3.5->evidently==0.3.2) (1.17.0)\n",
            "Requirement already satisfied: charset-normalizer<4,>=2 in /usr/local/lib/python3.11/dist-packages (from requests>=2.19.0->evidently==0.3.2) (3.4.2)\n",
            "Requirement already satisfied: idna<4,>=2.5 in /usr/local/lib/python3.11/dist-packages (from requests>=2.19.0->evidently==0.3.2) (3.10)\n",
            "Requirement already satisfied: urllib3<3,>=1.21.1 in /usr/local/lib/python3.11/dist-packages (from requests>=2.19.0->evidently==0.3.2) (2.4.0)\n",
            "Requirement already satisfied: certifi>=2017.4.17 in /usr/local/lib/python3.11/dist-packages (from requests>=2.19.0->evidently==0.3.2) (2025.4.26)\n",
            "Requirement already satisfied: threadpoolctl>=3.1.0 in /usr/local/lib/python3.11/dist-packages (from scikit-learn>=0.24.0->evidently==0.3.2) (3.6.0)\n",
            "Requirement already satisfied: patsy>=0.5.6 in /usr/local/lib/python3.11/dist-packages (from statsmodels>=0.12.2->evidently==0.3.2) (1.0.1)\n",
            "Requirement already satisfied: numba>=0.51.2 in /usr/local/lib/python3.11/dist-packages (from umap-learn>=0.5.3->evidently==0.3.2) (0.60.0)\n",
            "Requirement already satisfied: pynndescent>=0.5 in /usr/local/lib/python3.11/dist-packages (from umap-learn>=0.5.3->evidently==0.3.2) (0.5.13)\n",
            "Requirement already satisfied: llvmlite<0.44,>=0.43.0dev0 in /usr/local/lib/python3.11/dist-packages (from numba>=0.51.2->umap-learn>=0.5.3->evidently==0.3.2) (0.43.0)\n",
            "\u001b[33mWARNING: The candidate selected for download or install is a yanked version: 'evidently' candidate (version 0.3.2 at https://files.pythonhosted.org/packages/c9/22/55e529a89eb258138b48bea9544116bd1a332fe1d31a1f6340924c69981f/evidently-0.3.2-py3-none-any.whl (from https://pypi.org/simple/evidently/) (requires-python:>=3.7))\n",
            "Reason for being yanked: The package includes unnecessary dependency on tkinter\u001b[0m\u001b[33m\n",
            "\u001b[0mUsing cached evidently-0.3.2-py3-none-any.whl (2.0 MB)\n",
            "Installing collected packages: evidently\n",
            "Successfully installed evidently-0.3.2\n"
          ]
        },
        {
          "output_type": "display_data",
          "data": {
            "application/vnd.colab-display-data+json": {
              "pip_warning": {
                "packages": [
                  "evidently"
                ]
              },
              "id": "611b5d7f9e5e486db4873ae126426327"
            }
          },
          "metadata": {}
        }
      ]
    },
    {
      "cell_type": "markdown",
      "id": "067eb768",
      "metadata": {
        "id": "067eb768"
      },
      "source": [
        "## Imports and Configuration"
      ]
    },
    {
      "cell_type": "code",
      "execution_count": 1,
      "id": "2ee5ee3a",
      "metadata": {
        "colab": {
          "base_uri": "https://localhost:8080/"
        },
        "id": "2ee5ee3a",
        "outputId": "3e0e6550-c5a7-40ab-864e-4167f4dea95e"
      },
      "outputs": [
        {
          "output_type": "stream",
          "name": "stderr",
          "text": [
            "WARNING:root:No module named 'fairlearn': ExponentiatedGradientReduction will be unavailable. To install, run:\n",
            "pip install 'aif360[Reductions]'\n",
            "WARNING:root:No module named 'fairlearn': GridSearchReduction will be unavailable. To install, run:\n",
            "pip install 'aif360[Reductions]'\n",
            "WARNING:root:No module named 'inFairness': SenSeI and SenSR will be unavailable. To install, run:\n",
            "pip install 'aif360[inFairness]'\n",
            "WARNING:root:No module named 'fairlearn': GridSearchReduction will be unavailable. To install, run:\n",
            "pip install 'aif360[Reductions]'\n",
            "WARNING:root:No module named 'ot': ot_distance will be unavailable. To install, run:\n",
            "pip install 'aif360[OptimalTransport]'\n"
          ]
        }
      ],
      "source": [
        "import os\n",
        "import warnings\n",
        "warnings.filterwarnings('ignore')\n",
        "\n",
        "import pandas as pd\n",
        "import numpy as np\n",
        "\n",
        "from sklearn.model_selection import train_test_split, GridSearchCV, cross_val_score\n",
        "from sklearn.preprocessing import StandardScaler, OneHotEncoder, LabelEncoder, PolynomialFeatures\n",
        "from sklearn.impute import SimpleImputer\n",
        "from sklearn.pipeline import Pipeline\n",
        "from sklearn.decomposition import PCA\n",
        "from sklearn.cluster import KMeans\n",
        "from sklearn.manifold import TSNE\n",
        "\n",
        "from sklearn.linear_model import LogisticRegression\n",
        "from sklearn.ensemble import RandomForestClassifier, StackingClassifier\n",
        "from xgboost import XGBClassifier\n",
        "\n",
        "from imblearn.over_sampling import SMOTE\n",
        "from scipy.stats.mstats import winsorize\n",
        "\n",
        "import shap\n",
        "from lime.lime_tabular import LimeTabularExplainer\n",
        "\n",
        "import seaborn as sns\n",
        "import matplotlib.pyplot as plt\n",
        "import plotly.express as px\n",
        "\n",
        "from fastapi import FastAPI\n",
        "from pydantic import BaseModel\n",
        "import joblib\n",
        "import mlflow\n",
        "\n",
        "from evidently.report import Report\n",
        "from evidently.metric_preset import DataDriftPreset, ClassificationPreset\n",
        "\n",
        "from aif360.sklearn.metrics import disparate_impact_ratio, statistical_parity_difference\n",
        "\n",
        "%matplotlib inline\n",
        "sns.set_theme(style=\"whitegrid\")"
      ]
    },
    {
      "cell_type": "markdown",
      "id": "d614eb56",
      "metadata": {
        "id": "d614eb56"
      },
      "source": [
        "# Mount Drive & Load Data"
      ]
    },
    {
      "cell_type": "markdown",
      "id": "4d0f0b1b",
      "metadata": {
        "id": "4d0f0b1b"
      },
      "source": [
        "## Load the Dataset"
      ]
    },
    {
      "cell_type": "code",
      "execution_count": 17,
      "id": "a93625f3",
      "metadata": {
        "colab": {
          "base_uri": "https://localhost:8080/"
        },
        "id": "a93625f3",
        "outputId": "59cedfb0-1bfd-43f1-fd9f-cbc60d143fbf"
      },
      "outputs": [
        {
          "output_type": "stream",
          "name": "stdout",
          "text": [
            "Drive already mounted at /content/drive; to attempt to forcibly remount, call drive.mount(\"/content/drive\", force_remount=True).\n",
            "Loaded dataset with 2966 rows and 8 columns\n"
          ]
        }
      ],
      "source": [
        "from google.colab import drive\n",
        "drive.mount('/content/drive')\n",
        "\n",
        "df = pd.read_csv('/content/drive/MyDrive/collegePlacement.csv')\n",
        "print(f\"Loaded dataset with {df.shape[0]} rows and {df.shape[1]} columns\")"
      ]
    },
    {
      "cell_type": "markdown",
      "id": "4e9d48a0",
      "metadata": {
        "id": "4e9d48a0"
      },
      "source": [
        "# Exploratory Data Analysis (EDA)"
      ]
    },
    {
      "cell_type": "code",
      "execution_count": 18,
      "id": "8f15281d",
      "metadata": {
        "colab": {
          "base_uri": "https://localhost:8080/",
          "height": 206
        },
        "id": "8f15281d",
        "outputId": "a989aaca-7916-4842-e37d-b5fb1c7df3a1"
      },
      "outputs": [
        {
          "output_type": "execute_result",
          "data": {
            "text/plain": [
              "   Age  Gender                         Stream  Internships  CGPA  Hostel  \\\n",
              "0   22    Male  Electronics And Communication            1     8       1   \n",
              "1   21  Female               Computer Science            0     7       1   \n",
              "2   22  Female         Information Technology            1     6       0   \n",
              "3   21    Male         Information Technology            0     8       0   \n",
              "4   22    Male                     Mechanical            0     8       1   \n",
              "\n",
              "   HistoryOfBacklogs  PlacedOrNot  \n",
              "0                  1            1  \n",
              "1                  1            1  \n",
              "2                  0            1  \n",
              "3                  1            1  \n",
              "4                  0            1  "
            ],
            "text/html": [
              "\n",
              "  <div id=\"df-5fb68baf-064e-438f-87cf-02188a14aad5\" class=\"colab-df-container\">\n",
              "    <div>\n",
              "<style scoped>\n",
              "    .dataframe tbody tr th:only-of-type {\n",
              "        vertical-align: middle;\n",
              "    }\n",
              "\n",
              "    .dataframe tbody tr th {\n",
              "        vertical-align: top;\n",
              "    }\n",
              "\n",
              "    .dataframe thead th {\n",
              "        text-align: right;\n",
              "    }\n",
              "</style>\n",
              "<table border=\"1\" class=\"dataframe\">\n",
              "  <thead>\n",
              "    <tr style=\"text-align: right;\">\n",
              "      <th></th>\n",
              "      <th>Age</th>\n",
              "      <th>Gender</th>\n",
              "      <th>Stream</th>\n",
              "      <th>Internships</th>\n",
              "      <th>CGPA</th>\n",
              "      <th>Hostel</th>\n",
              "      <th>HistoryOfBacklogs</th>\n",
              "      <th>PlacedOrNot</th>\n",
              "    </tr>\n",
              "  </thead>\n",
              "  <tbody>\n",
              "    <tr>\n",
              "      <th>0</th>\n",
              "      <td>22</td>\n",
              "      <td>Male</td>\n",
              "      <td>Electronics And Communication</td>\n",
              "      <td>1</td>\n",
              "      <td>8</td>\n",
              "      <td>1</td>\n",
              "      <td>1</td>\n",
              "      <td>1</td>\n",
              "    </tr>\n",
              "    <tr>\n",
              "      <th>1</th>\n",
              "      <td>21</td>\n",
              "      <td>Female</td>\n",
              "      <td>Computer Science</td>\n",
              "      <td>0</td>\n",
              "      <td>7</td>\n",
              "      <td>1</td>\n",
              "      <td>1</td>\n",
              "      <td>1</td>\n",
              "    </tr>\n",
              "    <tr>\n",
              "      <th>2</th>\n",
              "      <td>22</td>\n",
              "      <td>Female</td>\n",
              "      <td>Information Technology</td>\n",
              "      <td>1</td>\n",
              "      <td>6</td>\n",
              "      <td>0</td>\n",
              "      <td>0</td>\n",
              "      <td>1</td>\n",
              "    </tr>\n",
              "    <tr>\n",
              "      <th>3</th>\n",
              "      <td>21</td>\n",
              "      <td>Male</td>\n",
              "      <td>Information Technology</td>\n",
              "      <td>0</td>\n",
              "      <td>8</td>\n",
              "      <td>0</td>\n",
              "      <td>1</td>\n",
              "      <td>1</td>\n",
              "    </tr>\n",
              "    <tr>\n",
              "      <th>4</th>\n",
              "      <td>22</td>\n",
              "      <td>Male</td>\n",
              "      <td>Mechanical</td>\n",
              "      <td>0</td>\n",
              "      <td>8</td>\n",
              "      <td>1</td>\n",
              "      <td>0</td>\n",
              "      <td>1</td>\n",
              "    </tr>\n",
              "  </tbody>\n",
              "</table>\n",
              "</div>\n",
              "    <div class=\"colab-df-buttons\">\n",
              "\n",
              "  <div class=\"colab-df-container\">\n",
              "    <button class=\"colab-df-convert\" onclick=\"convertToInteractive('df-5fb68baf-064e-438f-87cf-02188a14aad5')\"\n",
              "            title=\"Convert this dataframe to an interactive table.\"\n",
              "            style=\"display:none;\">\n",
              "\n",
              "  <svg xmlns=\"http://www.w3.org/2000/svg\" height=\"24px\" viewBox=\"0 -960 960 960\">\n",
              "    <path d=\"M120-120v-720h720v720H120Zm60-500h600v-160H180v160Zm220 220h160v-160H400v160Zm0 220h160v-160H400v160ZM180-400h160v-160H180v160Zm440 0h160v-160H620v160ZM180-180h160v-160H180v160Zm440 0h160v-160H620v160Z\"/>\n",
              "  </svg>\n",
              "    </button>\n",
              "\n",
              "  <style>\n",
              "    .colab-df-container {\n",
              "      display:flex;\n",
              "      gap: 12px;\n",
              "    }\n",
              "\n",
              "    .colab-df-convert {\n",
              "      background-color: #E8F0FE;\n",
              "      border: none;\n",
              "      border-radius: 50%;\n",
              "      cursor: pointer;\n",
              "      display: none;\n",
              "      fill: #1967D2;\n",
              "      height: 32px;\n",
              "      padding: 0 0 0 0;\n",
              "      width: 32px;\n",
              "    }\n",
              "\n",
              "    .colab-df-convert:hover {\n",
              "      background-color: #E2EBFA;\n",
              "      box-shadow: 0px 1px 2px rgba(60, 64, 67, 0.3), 0px 1px 3px 1px rgba(60, 64, 67, 0.15);\n",
              "      fill: #174EA6;\n",
              "    }\n",
              "\n",
              "    .colab-df-buttons div {\n",
              "      margin-bottom: 4px;\n",
              "    }\n",
              "\n",
              "    [theme=dark] .colab-df-convert {\n",
              "      background-color: #3B4455;\n",
              "      fill: #D2E3FC;\n",
              "    }\n",
              "\n",
              "    [theme=dark] .colab-df-convert:hover {\n",
              "      background-color: #434B5C;\n",
              "      box-shadow: 0px 1px 3px 1px rgba(0, 0, 0, 0.15);\n",
              "      filter: drop-shadow(0px 1px 2px rgba(0, 0, 0, 0.3));\n",
              "      fill: #FFFFFF;\n",
              "    }\n",
              "  </style>\n",
              "\n",
              "    <script>\n",
              "      const buttonEl =\n",
              "        document.querySelector('#df-5fb68baf-064e-438f-87cf-02188a14aad5 button.colab-df-convert');\n",
              "      buttonEl.style.display =\n",
              "        google.colab.kernel.accessAllowed ? 'block' : 'none';\n",
              "\n",
              "      async function convertToInteractive(key) {\n",
              "        const element = document.querySelector('#df-5fb68baf-064e-438f-87cf-02188a14aad5');\n",
              "        const dataTable =\n",
              "          await google.colab.kernel.invokeFunction('convertToInteractive',\n",
              "                                                    [key], {});\n",
              "        if (!dataTable) return;\n",
              "\n",
              "        const docLinkHtml = 'Like what you see? Visit the ' +\n",
              "          '<a target=\"_blank\" href=https://colab.research.google.com/notebooks/data_table.ipynb>data table notebook</a>'\n",
              "          + ' to learn more about interactive tables.';\n",
              "        element.innerHTML = '';\n",
              "        dataTable['output_type'] = 'display_data';\n",
              "        await google.colab.output.renderOutput(dataTable, element);\n",
              "        const docLink = document.createElement('div');\n",
              "        docLink.innerHTML = docLinkHtml;\n",
              "        element.appendChild(docLink);\n",
              "      }\n",
              "    </script>\n",
              "  </div>\n",
              "\n",
              "\n",
              "    <div id=\"df-5e8db8b2-b3ce-49a3-b03b-df8a4dfb34a8\">\n",
              "      <button class=\"colab-df-quickchart\" onclick=\"quickchart('df-5e8db8b2-b3ce-49a3-b03b-df8a4dfb34a8')\"\n",
              "                title=\"Suggest charts\"\n",
              "                style=\"display:none;\">\n",
              "\n",
              "<svg xmlns=\"http://www.w3.org/2000/svg\" height=\"24px\"viewBox=\"0 0 24 24\"\n",
              "     width=\"24px\">\n",
              "    <g>\n",
              "        <path d=\"M19 3H5c-1.1 0-2 .9-2 2v14c0 1.1.9 2 2 2h14c1.1 0 2-.9 2-2V5c0-1.1-.9-2-2-2zM9 17H7v-7h2v7zm4 0h-2V7h2v10zm4 0h-2v-4h2v4z\"/>\n",
              "    </g>\n",
              "</svg>\n",
              "      </button>\n",
              "\n",
              "<style>\n",
              "  .colab-df-quickchart {\n",
              "      --bg-color: #E8F0FE;\n",
              "      --fill-color: #1967D2;\n",
              "      --hover-bg-color: #E2EBFA;\n",
              "      --hover-fill-color: #174EA6;\n",
              "      --disabled-fill-color: #AAA;\n",
              "      --disabled-bg-color: #DDD;\n",
              "  }\n",
              "\n",
              "  [theme=dark] .colab-df-quickchart {\n",
              "      --bg-color: #3B4455;\n",
              "      --fill-color: #D2E3FC;\n",
              "      --hover-bg-color: #434B5C;\n",
              "      --hover-fill-color: #FFFFFF;\n",
              "      --disabled-bg-color: #3B4455;\n",
              "      --disabled-fill-color: #666;\n",
              "  }\n",
              "\n",
              "  .colab-df-quickchart {\n",
              "    background-color: var(--bg-color);\n",
              "    border: none;\n",
              "    border-radius: 50%;\n",
              "    cursor: pointer;\n",
              "    display: none;\n",
              "    fill: var(--fill-color);\n",
              "    height: 32px;\n",
              "    padding: 0;\n",
              "    width: 32px;\n",
              "  }\n",
              "\n",
              "  .colab-df-quickchart:hover {\n",
              "    background-color: var(--hover-bg-color);\n",
              "    box-shadow: 0 1px 2px rgba(60, 64, 67, 0.3), 0 1px 3px 1px rgba(60, 64, 67, 0.15);\n",
              "    fill: var(--button-hover-fill-color);\n",
              "  }\n",
              "\n",
              "  .colab-df-quickchart-complete:disabled,\n",
              "  .colab-df-quickchart-complete:disabled:hover {\n",
              "    background-color: var(--disabled-bg-color);\n",
              "    fill: var(--disabled-fill-color);\n",
              "    box-shadow: none;\n",
              "  }\n",
              "\n",
              "  .colab-df-spinner {\n",
              "    border: 2px solid var(--fill-color);\n",
              "    border-color: transparent;\n",
              "    border-bottom-color: var(--fill-color);\n",
              "    animation:\n",
              "      spin 1s steps(1) infinite;\n",
              "  }\n",
              "\n",
              "  @keyframes spin {\n",
              "    0% {\n",
              "      border-color: transparent;\n",
              "      border-bottom-color: var(--fill-color);\n",
              "      border-left-color: var(--fill-color);\n",
              "    }\n",
              "    20% {\n",
              "      border-color: transparent;\n",
              "      border-left-color: var(--fill-color);\n",
              "      border-top-color: var(--fill-color);\n",
              "    }\n",
              "    30% {\n",
              "      border-color: transparent;\n",
              "      border-left-color: var(--fill-color);\n",
              "      border-top-color: var(--fill-color);\n",
              "      border-right-color: var(--fill-color);\n",
              "    }\n",
              "    40% {\n",
              "      border-color: transparent;\n",
              "      border-right-color: var(--fill-color);\n",
              "      border-top-color: var(--fill-color);\n",
              "    }\n",
              "    60% {\n",
              "      border-color: transparent;\n",
              "      border-right-color: var(--fill-color);\n",
              "    }\n",
              "    80% {\n",
              "      border-color: transparent;\n",
              "      border-right-color: var(--fill-color);\n",
              "      border-bottom-color: var(--fill-color);\n",
              "    }\n",
              "    90% {\n",
              "      border-color: transparent;\n",
              "      border-bottom-color: var(--fill-color);\n",
              "    }\n",
              "  }\n",
              "</style>\n",
              "\n",
              "      <script>\n",
              "        async function quickchart(key) {\n",
              "          const quickchartButtonEl =\n",
              "            document.querySelector('#' + key + ' button');\n",
              "          quickchartButtonEl.disabled = true;  // To prevent multiple clicks.\n",
              "          quickchartButtonEl.classList.add('colab-df-spinner');\n",
              "          try {\n",
              "            const charts = await google.colab.kernel.invokeFunction(\n",
              "                'suggestCharts', [key], {});\n",
              "          } catch (error) {\n",
              "            console.error('Error during call to suggestCharts:', error);\n",
              "          }\n",
              "          quickchartButtonEl.classList.remove('colab-df-spinner');\n",
              "          quickchartButtonEl.classList.add('colab-df-quickchart-complete');\n",
              "        }\n",
              "        (() => {\n",
              "          let quickchartButtonEl =\n",
              "            document.querySelector('#df-5e8db8b2-b3ce-49a3-b03b-df8a4dfb34a8 button');\n",
              "          quickchartButtonEl.style.display =\n",
              "            google.colab.kernel.accessAllowed ? 'block' : 'none';\n",
              "        })();\n",
              "      </script>\n",
              "    </div>\n",
              "\n",
              "    </div>\n",
              "  </div>\n"
            ],
            "application/vnd.google.colaboratory.intrinsic+json": {
              "type": "dataframe",
              "variable_name": "df",
              "summary": "{\n  \"name\": \"df\",\n  \"rows\": 2966,\n  \"fields\": [\n    {\n      \"column\": \"Age\",\n      \"properties\": {\n        \"dtype\": \"number\",\n        \"std\": 1,\n        \"min\": 19,\n        \"max\": 30,\n        \"num_unique_values\": 11,\n        \"samples\": [\n          30,\n          22,\n          19\n        ],\n        \"semantic_type\": \"\",\n        \"description\": \"\"\n      }\n    },\n    {\n      \"column\": \"Gender\",\n      \"properties\": {\n        \"dtype\": \"category\",\n        \"num_unique_values\": 2,\n        \"samples\": [\n          \"Female\",\n          \"Male\"\n        ],\n        \"semantic_type\": \"\",\n        \"description\": \"\"\n      }\n    },\n    {\n      \"column\": \"Stream\",\n      \"properties\": {\n        \"dtype\": \"category\",\n        \"num_unique_values\": 6,\n        \"samples\": [\n          \"Electronics And Communication\",\n          \"Computer Science\"\n        ],\n        \"semantic_type\": \"\",\n        \"description\": \"\"\n      }\n    },\n    {\n      \"column\": \"Internships\",\n      \"properties\": {\n        \"dtype\": \"number\",\n        \"std\": 0,\n        \"min\": 0,\n        \"max\": 3,\n        \"num_unique_values\": 4,\n        \"samples\": [\n          0,\n          3\n        ],\n        \"semantic_type\": \"\",\n        \"description\": \"\"\n      }\n    },\n    {\n      \"column\": \"CGPA\",\n      \"properties\": {\n        \"dtype\": \"number\",\n        \"std\": 0,\n        \"min\": 5,\n        \"max\": 9,\n        \"num_unique_values\": 5,\n        \"samples\": [\n          7,\n          5\n        ],\n        \"semantic_type\": \"\",\n        \"description\": \"\"\n      }\n    },\n    {\n      \"column\": \"Hostel\",\n      \"properties\": {\n        \"dtype\": \"number\",\n        \"std\": 0,\n        \"min\": 0,\n        \"max\": 1,\n        \"num_unique_values\": 2,\n        \"samples\": [\n          0,\n          1\n        ],\n        \"semantic_type\": \"\",\n        \"description\": \"\"\n      }\n    },\n    {\n      \"column\": \"HistoryOfBacklogs\",\n      \"properties\": {\n        \"dtype\": \"number\",\n        \"std\": 0,\n        \"min\": 0,\n        \"max\": 1,\n        \"num_unique_values\": 2,\n        \"samples\": [\n          0,\n          1\n        ],\n        \"semantic_type\": \"\",\n        \"description\": \"\"\n      }\n    },\n    {\n      \"column\": \"PlacedOrNot\",\n      \"properties\": {\n        \"dtype\": \"number\",\n        \"std\": 0,\n        \"min\": 0,\n        \"max\": 1,\n        \"num_unique_values\": 2,\n        \"samples\": [\n          0,\n          1\n        ],\n        \"semantic_type\": \"\",\n        \"description\": \"\"\n      }\n    }\n  ]\n}"
            }
          },
          "metadata": {},
          "execution_count": 18
        }
      ],
      "source": [
        "df.head(5)"
      ]
    },
    {
      "cell_type": "code",
      "source": [
        "print(df.info())"
      ],
      "metadata": {
        "colab": {
          "base_uri": "https://localhost:8080/"
        },
        "id": "EHNmIFInRRDu",
        "outputId": "bfb5dfee-3596-4f4a-d014-522243447fd6"
      },
      "id": "EHNmIFInRRDu",
      "execution_count": 19,
      "outputs": [
        {
          "output_type": "stream",
          "name": "stdout",
          "text": [
            "<class 'pandas.core.frame.DataFrame'>\n",
            "RangeIndex: 2966 entries, 0 to 2965\n",
            "Data columns (total 8 columns):\n",
            " #   Column             Non-Null Count  Dtype \n",
            "---  ------             --------------  ----- \n",
            " 0   Age                2966 non-null   int64 \n",
            " 1   Gender             2966 non-null   object\n",
            " 2   Stream             2966 non-null   object\n",
            " 3   Internships        2966 non-null   int64 \n",
            " 4   CGPA               2966 non-null   int64 \n",
            " 5   Hostel             2966 non-null   int64 \n",
            " 6   HistoryOfBacklogs  2966 non-null   int64 \n",
            " 7   PlacedOrNot        2966 non-null   int64 \n",
            "dtypes: int64(6), object(2)\n",
            "memory usage: 185.5+ KB\n",
            "None\n"
          ]
        }
      ]
    },
    {
      "cell_type": "code",
      "source": [
        "print(\"Missing values per column:\")\n",
        "print(df.isnull().sum())"
      ],
      "metadata": {
        "colab": {
          "base_uri": "https://localhost:8080/"
        },
        "id": "uuEXZHfJRTN4",
        "outputId": "b0577fa3-1a48-4366-c532-a5848177d3fe"
      },
      "id": "uuEXZHfJRTN4",
      "execution_count": 20,
      "outputs": [
        {
          "output_type": "stream",
          "name": "stdout",
          "text": [
            "Missing values per column:\n",
            "Age                  0\n",
            "Gender               0\n",
            "Stream               0\n",
            "Internships          0\n",
            "CGPA                 0\n",
            "Hostel               0\n",
            "HistoryOfBacklogs    0\n",
            "PlacedOrNot          0\n",
            "dtype: int64\n"
          ]
        }
      ]
    },
    {
      "cell_type": "markdown",
      "id": "0815021f",
      "metadata": {
        "id": "0815021f"
      },
      "source": [
        "## Statistical Summary"
      ]
    },
    {
      "cell_type": "code",
      "execution_count": 21,
      "id": "ebb87f0f",
      "metadata": {
        "colab": {
          "base_uri": "https://localhost:8080/",
          "height": 318
        },
        "id": "ebb87f0f",
        "outputId": "84720fe9-044b-42e8-ae6c-08736247d389"
      },
      "outputs": [
        {
          "output_type": "display_data",
          "data": {
            "text/plain": [
              "                    count unique               top  freq      mean       std  \\\n",
              "Age                2966.0    NaN               NaN   NaN  21.48584  1.324933   \n",
              "Gender               2966      2              Male  2475       NaN       NaN   \n",
              "Stream               2966      6  Computer Science   776       NaN       NaN   \n",
              "Internships        2966.0    NaN               NaN   NaN  0.703641  0.740197   \n",
              "CGPA               2966.0    NaN               NaN   NaN  7.073837  0.967748   \n",
              "Hostel             2966.0    NaN               NaN   NaN  0.269049   0.44354   \n",
              "HistoryOfBacklogs  2966.0    NaN               NaN   NaN  0.192178  0.394079   \n",
              "PlacedOrNot        2966.0    NaN               NaN   NaN  0.552596   0.49731   \n",
              "\n",
              "                    min   25%   50%   75%   max  \n",
              "Age                19.0  21.0  21.0  22.0  30.0  \n",
              "Gender              NaN   NaN   NaN   NaN   NaN  \n",
              "Stream              NaN   NaN   NaN   NaN   NaN  \n",
              "Internships         0.0   0.0   1.0   1.0   3.0  \n",
              "CGPA                5.0   6.0   7.0   8.0   9.0  \n",
              "Hostel              0.0   0.0   0.0   1.0   1.0  \n",
              "HistoryOfBacklogs   0.0   0.0   0.0   0.0   1.0  \n",
              "PlacedOrNot         0.0   0.0   1.0   1.0   1.0  "
            ],
            "text/html": [
              "\n",
              "  <div id=\"df-6cb76405-9e9d-40f9-945a-f49960b51a9b\" class=\"colab-df-container\">\n",
              "    <div>\n",
              "<style scoped>\n",
              "    .dataframe tbody tr th:only-of-type {\n",
              "        vertical-align: middle;\n",
              "    }\n",
              "\n",
              "    .dataframe tbody tr th {\n",
              "        vertical-align: top;\n",
              "    }\n",
              "\n",
              "    .dataframe thead th {\n",
              "        text-align: right;\n",
              "    }\n",
              "</style>\n",
              "<table border=\"1\" class=\"dataframe\">\n",
              "  <thead>\n",
              "    <tr style=\"text-align: right;\">\n",
              "      <th></th>\n",
              "      <th>count</th>\n",
              "      <th>unique</th>\n",
              "      <th>top</th>\n",
              "      <th>freq</th>\n",
              "      <th>mean</th>\n",
              "      <th>std</th>\n",
              "      <th>min</th>\n",
              "      <th>25%</th>\n",
              "      <th>50%</th>\n",
              "      <th>75%</th>\n",
              "      <th>max</th>\n",
              "    </tr>\n",
              "  </thead>\n",
              "  <tbody>\n",
              "    <tr>\n",
              "      <th>Age</th>\n",
              "      <td>2966.0</td>\n",
              "      <td>NaN</td>\n",
              "      <td>NaN</td>\n",
              "      <td>NaN</td>\n",
              "      <td>21.48584</td>\n",
              "      <td>1.324933</td>\n",
              "      <td>19.0</td>\n",
              "      <td>21.0</td>\n",
              "      <td>21.0</td>\n",
              "      <td>22.0</td>\n",
              "      <td>30.0</td>\n",
              "    </tr>\n",
              "    <tr>\n",
              "      <th>Gender</th>\n",
              "      <td>2966</td>\n",
              "      <td>2</td>\n",
              "      <td>Male</td>\n",
              "      <td>2475</td>\n",
              "      <td>NaN</td>\n",
              "      <td>NaN</td>\n",
              "      <td>NaN</td>\n",
              "      <td>NaN</td>\n",
              "      <td>NaN</td>\n",
              "      <td>NaN</td>\n",
              "      <td>NaN</td>\n",
              "    </tr>\n",
              "    <tr>\n",
              "      <th>Stream</th>\n",
              "      <td>2966</td>\n",
              "      <td>6</td>\n",
              "      <td>Computer Science</td>\n",
              "      <td>776</td>\n",
              "      <td>NaN</td>\n",
              "      <td>NaN</td>\n",
              "      <td>NaN</td>\n",
              "      <td>NaN</td>\n",
              "      <td>NaN</td>\n",
              "      <td>NaN</td>\n",
              "      <td>NaN</td>\n",
              "    </tr>\n",
              "    <tr>\n",
              "      <th>Internships</th>\n",
              "      <td>2966.0</td>\n",
              "      <td>NaN</td>\n",
              "      <td>NaN</td>\n",
              "      <td>NaN</td>\n",
              "      <td>0.703641</td>\n",
              "      <td>0.740197</td>\n",
              "      <td>0.0</td>\n",
              "      <td>0.0</td>\n",
              "      <td>1.0</td>\n",
              "      <td>1.0</td>\n",
              "      <td>3.0</td>\n",
              "    </tr>\n",
              "    <tr>\n",
              "      <th>CGPA</th>\n",
              "      <td>2966.0</td>\n",
              "      <td>NaN</td>\n",
              "      <td>NaN</td>\n",
              "      <td>NaN</td>\n",
              "      <td>7.073837</td>\n",
              "      <td>0.967748</td>\n",
              "      <td>5.0</td>\n",
              "      <td>6.0</td>\n",
              "      <td>7.0</td>\n",
              "      <td>8.0</td>\n",
              "      <td>9.0</td>\n",
              "    </tr>\n",
              "    <tr>\n",
              "      <th>Hostel</th>\n",
              "      <td>2966.0</td>\n",
              "      <td>NaN</td>\n",
              "      <td>NaN</td>\n",
              "      <td>NaN</td>\n",
              "      <td>0.269049</td>\n",
              "      <td>0.44354</td>\n",
              "      <td>0.0</td>\n",
              "      <td>0.0</td>\n",
              "      <td>0.0</td>\n",
              "      <td>1.0</td>\n",
              "      <td>1.0</td>\n",
              "    </tr>\n",
              "    <tr>\n",
              "      <th>HistoryOfBacklogs</th>\n",
              "      <td>2966.0</td>\n",
              "      <td>NaN</td>\n",
              "      <td>NaN</td>\n",
              "      <td>NaN</td>\n",
              "      <td>0.192178</td>\n",
              "      <td>0.394079</td>\n",
              "      <td>0.0</td>\n",
              "      <td>0.0</td>\n",
              "      <td>0.0</td>\n",
              "      <td>0.0</td>\n",
              "      <td>1.0</td>\n",
              "    </tr>\n",
              "    <tr>\n",
              "      <th>PlacedOrNot</th>\n",
              "      <td>2966.0</td>\n",
              "      <td>NaN</td>\n",
              "      <td>NaN</td>\n",
              "      <td>NaN</td>\n",
              "      <td>0.552596</td>\n",
              "      <td>0.49731</td>\n",
              "      <td>0.0</td>\n",
              "      <td>0.0</td>\n",
              "      <td>1.0</td>\n",
              "      <td>1.0</td>\n",
              "      <td>1.0</td>\n",
              "    </tr>\n",
              "  </tbody>\n",
              "</table>\n",
              "</div>\n",
              "    <div class=\"colab-df-buttons\">\n",
              "\n",
              "  <div class=\"colab-df-container\">\n",
              "    <button class=\"colab-df-convert\" onclick=\"convertToInteractive('df-6cb76405-9e9d-40f9-945a-f49960b51a9b')\"\n",
              "            title=\"Convert this dataframe to an interactive table.\"\n",
              "            style=\"display:none;\">\n",
              "\n",
              "  <svg xmlns=\"http://www.w3.org/2000/svg\" height=\"24px\" viewBox=\"0 -960 960 960\">\n",
              "    <path d=\"M120-120v-720h720v720H120Zm60-500h600v-160H180v160Zm220 220h160v-160H400v160Zm0 220h160v-160H400v160ZM180-400h160v-160H180v160Zm440 0h160v-160H620v160ZM180-180h160v-160H180v160Zm440 0h160v-160H620v160Z\"/>\n",
              "  </svg>\n",
              "    </button>\n",
              "\n",
              "  <style>\n",
              "    .colab-df-container {\n",
              "      display:flex;\n",
              "      gap: 12px;\n",
              "    }\n",
              "\n",
              "    .colab-df-convert {\n",
              "      background-color: #E8F0FE;\n",
              "      border: none;\n",
              "      border-radius: 50%;\n",
              "      cursor: pointer;\n",
              "      display: none;\n",
              "      fill: #1967D2;\n",
              "      height: 32px;\n",
              "      padding: 0 0 0 0;\n",
              "      width: 32px;\n",
              "    }\n",
              "\n",
              "    .colab-df-convert:hover {\n",
              "      background-color: #E2EBFA;\n",
              "      box-shadow: 0px 1px 2px rgba(60, 64, 67, 0.3), 0px 1px 3px 1px rgba(60, 64, 67, 0.15);\n",
              "      fill: #174EA6;\n",
              "    }\n",
              "\n",
              "    .colab-df-buttons div {\n",
              "      margin-bottom: 4px;\n",
              "    }\n",
              "\n",
              "    [theme=dark] .colab-df-convert {\n",
              "      background-color: #3B4455;\n",
              "      fill: #D2E3FC;\n",
              "    }\n",
              "\n",
              "    [theme=dark] .colab-df-convert:hover {\n",
              "      background-color: #434B5C;\n",
              "      box-shadow: 0px 1px 3px 1px rgba(0, 0, 0, 0.15);\n",
              "      filter: drop-shadow(0px 1px 2px rgba(0, 0, 0, 0.3));\n",
              "      fill: #FFFFFF;\n",
              "    }\n",
              "  </style>\n",
              "\n",
              "    <script>\n",
              "      const buttonEl =\n",
              "        document.querySelector('#df-6cb76405-9e9d-40f9-945a-f49960b51a9b button.colab-df-convert');\n",
              "      buttonEl.style.display =\n",
              "        google.colab.kernel.accessAllowed ? 'block' : 'none';\n",
              "\n",
              "      async function convertToInteractive(key) {\n",
              "        const element = document.querySelector('#df-6cb76405-9e9d-40f9-945a-f49960b51a9b');\n",
              "        const dataTable =\n",
              "          await google.colab.kernel.invokeFunction('convertToInteractive',\n",
              "                                                    [key], {});\n",
              "        if (!dataTable) return;\n",
              "\n",
              "        const docLinkHtml = 'Like what you see? Visit the ' +\n",
              "          '<a target=\"_blank\" href=https://colab.research.google.com/notebooks/data_table.ipynb>data table notebook</a>'\n",
              "          + ' to learn more about interactive tables.';\n",
              "        element.innerHTML = '';\n",
              "        dataTable['output_type'] = 'display_data';\n",
              "        await google.colab.output.renderOutput(dataTable, element);\n",
              "        const docLink = document.createElement('div');\n",
              "        docLink.innerHTML = docLinkHtml;\n",
              "        element.appendChild(docLink);\n",
              "      }\n",
              "    </script>\n",
              "  </div>\n",
              "\n",
              "\n",
              "    <div id=\"df-ad078275-56bf-4833-a481-ee4b96297f43\">\n",
              "      <button class=\"colab-df-quickchart\" onclick=\"quickchart('df-ad078275-56bf-4833-a481-ee4b96297f43')\"\n",
              "                title=\"Suggest charts\"\n",
              "                style=\"display:none;\">\n",
              "\n",
              "<svg xmlns=\"http://www.w3.org/2000/svg\" height=\"24px\"viewBox=\"0 0 24 24\"\n",
              "     width=\"24px\">\n",
              "    <g>\n",
              "        <path d=\"M19 3H5c-1.1 0-2 .9-2 2v14c0 1.1.9 2 2 2h14c1.1 0 2-.9 2-2V5c0-1.1-.9-2-2-2zM9 17H7v-7h2v7zm4 0h-2V7h2v10zm4 0h-2v-4h2v4z\"/>\n",
              "    </g>\n",
              "</svg>\n",
              "      </button>\n",
              "\n",
              "<style>\n",
              "  .colab-df-quickchart {\n",
              "      --bg-color: #E8F0FE;\n",
              "      --fill-color: #1967D2;\n",
              "      --hover-bg-color: #E2EBFA;\n",
              "      --hover-fill-color: #174EA6;\n",
              "      --disabled-fill-color: #AAA;\n",
              "      --disabled-bg-color: #DDD;\n",
              "  }\n",
              "\n",
              "  [theme=dark] .colab-df-quickchart {\n",
              "      --bg-color: #3B4455;\n",
              "      --fill-color: #D2E3FC;\n",
              "      --hover-bg-color: #434B5C;\n",
              "      --hover-fill-color: #FFFFFF;\n",
              "      --disabled-bg-color: #3B4455;\n",
              "      --disabled-fill-color: #666;\n",
              "  }\n",
              "\n",
              "  .colab-df-quickchart {\n",
              "    background-color: var(--bg-color);\n",
              "    border: none;\n",
              "    border-radius: 50%;\n",
              "    cursor: pointer;\n",
              "    display: none;\n",
              "    fill: var(--fill-color);\n",
              "    height: 32px;\n",
              "    padding: 0;\n",
              "    width: 32px;\n",
              "  }\n",
              "\n",
              "  .colab-df-quickchart:hover {\n",
              "    background-color: var(--hover-bg-color);\n",
              "    box-shadow: 0 1px 2px rgba(60, 64, 67, 0.3), 0 1px 3px 1px rgba(60, 64, 67, 0.15);\n",
              "    fill: var(--button-hover-fill-color);\n",
              "  }\n",
              "\n",
              "  .colab-df-quickchart-complete:disabled,\n",
              "  .colab-df-quickchart-complete:disabled:hover {\n",
              "    background-color: var(--disabled-bg-color);\n",
              "    fill: var(--disabled-fill-color);\n",
              "    box-shadow: none;\n",
              "  }\n",
              "\n",
              "  .colab-df-spinner {\n",
              "    border: 2px solid var(--fill-color);\n",
              "    border-color: transparent;\n",
              "    border-bottom-color: var(--fill-color);\n",
              "    animation:\n",
              "      spin 1s steps(1) infinite;\n",
              "  }\n",
              "\n",
              "  @keyframes spin {\n",
              "    0% {\n",
              "      border-color: transparent;\n",
              "      border-bottom-color: var(--fill-color);\n",
              "      border-left-color: var(--fill-color);\n",
              "    }\n",
              "    20% {\n",
              "      border-color: transparent;\n",
              "      border-left-color: var(--fill-color);\n",
              "      border-top-color: var(--fill-color);\n",
              "    }\n",
              "    30% {\n",
              "      border-color: transparent;\n",
              "      border-left-color: var(--fill-color);\n",
              "      border-top-color: var(--fill-color);\n",
              "      border-right-color: var(--fill-color);\n",
              "    }\n",
              "    40% {\n",
              "      border-color: transparent;\n",
              "      border-right-color: var(--fill-color);\n",
              "      border-top-color: var(--fill-color);\n",
              "    }\n",
              "    60% {\n",
              "      border-color: transparent;\n",
              "      border-right-color: var(--fill-color);\n",
              "    }\n",
              "    80% {\n",
              "      border-color: transparent;\n",
              "      border-right-color: var(--fill-color);\n",
              "      border-bottom-color: var(--fill-color);\n",
              "    }\n",
              "    90% {\n",
              "      border-color: transparent;\n",
              "      border-bottom-color: var(--fill-color);\n",
              "    }\n",
              "  }\n",
              "</style>\n",
              "\n",
              "      <script>\n",
              "        async function quickchart(key) {\n",
              "          const quickchartButtonEl =\n",
              "            document.querySelector('#' + key + ' button');\n",
              "          quickchartButtonEl.disabled = true;  // To prevent multiple clicks.\n",
              "          quickchartButtonEl.classList.add('colab-df-spinner');\n",
              "          try {\n",
              "            const charts = await google.colab.kernel.invokeFunction(\n",
              "                'suggestCharts', [key], {});\n",
              "          } catch (error) {\n",
              "            console.error('Error during call to suggestCharts:', error);\n",
              "          }\n",
              "          quickchartButtonEl.classList.remove('colab-df-spinner');\n",
              "          quickchartButtonEl.classList.add('colab-df-quickchart-complete');\n",
              "        }\n",
              "        (() => {\n",
              "          let quickchartButtonEl =\n",
              "            document.querySelector('#df-ad078275-56bf-4833-a481-ee4b96297f43 button');\n",
              "          quickchartButtonEl.style.display =\n",
              "            google.colab.kernel.accessAllowed ? 'block' : 'none';\n",
              "        })();\n",
              "      </script>\n",
              "    </div>\n",
              "\n",
              "    </div>\n",
              "  </div>\n"
            ],
            "application/vnd.google.colaboratory.intrinsic+json": {
              "type": "dataframe",
              "summary": "{\n  \"name\": \"print(f\\\"Overall about {placement_rate:\",\n  \"rows\": 8,\n  \"fields\": [\n    {\n      \"column\": \"count\",\n      \"properties\": {\n        \"dtype\": \"date\",\n        \"min\": 2966.0,\n        \"max\": 2966.0,\n        \"num_unique_values\": 1,\n        \"samples\": [\n          2966.0\n        ],\n        \"semantic_type\": \"\",\n        \"description\": \"\"\n      }\n    },\n    {\n      \"column\": \"unique\",\n      \"properties\": {\n        \"dtype\": \"date\",\n        \"min\": 2,\n        \"max\": 6,\n        \"num_unique_values\": 2,\n        \"samples\": [\n          6\n        ],\n        \"semantic_type\": \"\",\n        \"description\": \"\"\n      }\n    },\n    {\n      \"column\": \"top\",\n      \"properties\": {\n        \"dtype\": \"category\",\n        \"num_unique_values\": 2,\n        \"samples\": [\n          \"Computer Science\"\n        ],\n        \"semantic_type\": \"\",\n        \"description\": \"\"\n      }\n    },\n    {\n      \"column\": \"freq\",\n      \"properties\": {\n        \"dtype\": \"date\",\n        \"min\": \"776\",\n        \"max\": \"2475\",\n        \"num_unique_values\": 2,\n        \"samples\": [\n          \"776\"\n        ],\n        \"semantic_type\": \"\",\n        \"description\": \"\"\n      }\n    },\n    {\n      \"column\": \"mean\",\n      \"properties\": {\n        \"dtype\": \"date\",\n        \"min\": 0.19217801753202968,\n        \"max\": 21.48583951449764,\n        \"num_unique_values\": 6,\n        \"samples\": [\n          21.48583951449764\n        ],\n        \"semantic_type\": \"\",\n        \"description\": \"\"\n      }\n    },\n    {\n      \"column\": \"std\",\n      \"properties\": {\n        \"dtype\": \"date\",\n        \"min\": 0.39407865523463964,\n        \"max\": 1.3249334527319803,\n        \"num_unique_values\": 6,\n        \"samples\": [\n          1.3249334527319803\n        ],\n        \"semantic_type\": \"\",\n        \"description\": \"\"\n      }\n    },\n    {\n      \"column\": \"min\",\n      \"properties\": {\n        \"dtype\": \"date\",\n        \"min\": 0.0,\n        \"max\": 19.0,\n        \"num_unique_values\": 3,\n        \"samples\": [\n          19.0\n        ],\n        \"semantic_type\": \"\",\n        \"description\": \"\"\n      }\n    },\n    {\n      \"column\": \"25%\",\n      \"properties\": {\n        \"dtype\": \"date\",\n        \"min\": 0.0,\n        \"max\": 21.0,\n        \"num_unique_values\": 3,\n        \"samples\": [\n          21.0\n        ],\n        \"semantic_type\": \"\",\n        \"description\": \"\"\n      }\n    },\n    {\n      \"column\": \"50%\",\n      \"properties\": {\n        \"dtype\": \"date\",\n        \"min\": 0.0,\n        \"max\": 21.0,\n        \"num_unique_values\": 4,\n        \"samples\": [\n          1.0\n        ],\n        \"semantic_type\": \"\",\n        \"description\": \"\"\n      }\n    },\n    {\n      \"column\": \"75%\",\n      \"properties\": {\n        \"dtype\": \"date\",\n        \"min\": 0.0,\n        \"max\": 22.0,\n        \"num_unique_values\": 4,\n        \"samples\": [\n          1.0\n        ],\n        \"semantic_type\": \"\",\n        \"description\": \"\"\n      }\n    },\n    {\n      \"column\": \"max\",\n      \"properties\": {\n        \"dtype\": \"date\",\n        \"min\": 1.0,\n        \"max\": 30.0,\n        \"num_unique_values\": 4,\n        \"samples\": [\n          3.0\n        ],\n        \"semantic_type\": \"\",\n        \"description\": \"\"\n      }\n    }\n  ]\n}"
            }
          },
          "metadata": {}
        },
        {
          "output_type": "stream",
          "name": "stdout",
          "text": [
            "Overall about 55.3% of students were placed\n"
          ]
        }
      ],
      "source": [
        "display(df.describe(include='all').T)\n",
        "placement_rate = df['PlacedOrNot'].mean()\n",
        "print(f\"Overall about {placement_rate:.1%} of students were placed\")"
      ]
    },
    {
      "cell_type": "markdown",
      "id": "483de9ac",
      "metadata": {
        "id": "483de9ac"
      },
      "source": [
        "## Univariate Analysis"
      ]
    },
    {
      "cell_type": "code",
      "execution_count": 22,
      "id": "d10a5c31",
      "metadata": {
        "colab": {
          "base_uri": "https://localhost:8080/",
          "height": 410
        },
        "id": "d10a5c31",
        "outputId": "ebe57a5f-aafd-4b12-aa98-35b98d89a412"
      },
      "outputs": [
        {
          "output_type": "display_data",
          "data": {
            "text/plain": [
              "<Figure size 800x400 with 1 Axes>"
            ],
            "image/png": "[encoded data removed]"
          },
          "metadata": {}
        }
      ],
      "source": [
        "plt.figure(figsize=(8,4))\n",
        "sns.histplot(df['CGPA'], kde=True)\n",
        "plt.title(\"Distribution of CGPA\")\n",
        "plt.show()"
      ]
    },
    {
      "cell_type": "code",
      "source": [
        "plt.figure(figsize=(8,4))\n",
        "sns.countplot(x='Internships', data=df)\n",
        "plt.title(\"How many internships students did?\")\n",
        "plt.show()"
      ],
      "metadata": {
        "colab": {
          "base_uri": "https://localhost:8080/",
          "height": 410
        },
        "id": "CbPFFQU0Rd7H",
        "outputId": "3ea7140e-851b-4a1b-a749-d4641a1b642f"
      },
      "id": "CbPFFQU0Rd7H",
      "execution_count": 23,
      "outputs": [
        {
          "output_type": "display_data",
          "data": {
            "text/plain": [
              "<Figure size 800x400 with 1 Axes>"
            ],
            "image/png": "[encoded data removed]"
          },
          "metadata": {}
        }
      ]
    },
    {
      "cell_type": "markdown",
      "id": "ce236483",
      "metadata": {
        "id": "ce236483"
      },
      "source": [
        "## Bivariate Analysis"
      ]
    },
    {
      "cell_type": "code",
      "execution_count": 25,
      "id": "58bfbfea",
      "metadata": {
        "colab": {
          "base_uri": "https://localhost:8080/",
          "height": 542
        },
        "id": "58bfbfea",
        "outputId": "04c521dd-af04-46d0-e440-3c3b37dca732"
      },
      "outputs": [
        {
          "output_type": "display_data",
          "data": {
            "text/html": [
              "<html>\n",
              "<head><meta charset=\"utf-8\" /></head>\n",
              "<body>\n",
              "    <div>            <script src=\"https://cdnjs.cloudflare.com/ajax/libs/mathjax/2.7.5/MathJax.js?config=TeX-AMS-MML_SVG\"></script><script type=\"text/javascript\">if (window.MathJax && window.MathJax.Hub && window.MathJax.Hub.Config) {window.MathJax.Hub.Config({SVG: {font: \"STIX-Web\"}});}</script>                <script type=\"text/javascript\">window.PlotlyConfig = {MathJaxConfig: 'local'};</script>\n",
              "        <script charset=\"utf-8\" src=\"https://cdn.plot.ly/plotly-3.0.1.min.js\"></script>                <div id=\"43ef4bfc-8214-4cc3-be85-a0883ac46e41\" class=\"plotly-graph-div\" style=\"height:525px; width:100%;\"></div>            <script type=\"text/javascript\">                window.PLOTLYENV=window.PLOTLYENV || {};                                if (document.getElementById(\"43ef4bfc-8214-4cc3-be85-a0883ac46e41\")) {                    Plotly.newPlot(                        \"43ef4bfc-8214-4cc3-be85-a0883ac46e41\",                        [{\"customdata\":{\"dtype\":\"i1\",\"bdata\":\"FgEVABYAFQAVABYAFQAVABUAFQAYABcAGAAWABUAFgAVABYBFQAWABUBFgAWARYAFQAVABUAFQAWABUAFQEVABUAFgAWABYAFQAWABYBFgAVABYAFgAWABUAFQAVABUAFgAWABYAFQAWABUAFQEVABoAGAAXABgAFgAVARYAFQAVARUAFQAWABUAFQEWABYAFQAVABUAFgAVARUAFgAWABYAFQEVABUAFQAWARYAFgAWABUAFQAWABUAFQEVABUBFQAWARUAFQAVABUAFQAVABUAGQAaABkAGQAVABYAFQAWABUAFgAXABcAFQAWABQAGAAXABQAFgAWABUAFQAXABgAGAEWARgAGAAYABUAFgAYABgBFgAUARYAFgAUABUAGAAUABUAEwAWABYBEwAUABMAEwAVABMAFQATABYAFgATABUBFAAVABQAFQETABMBEwAVABUAEwAWARMAFgETABQAEwATABUAFAAVABQAFQAUABQAFgAVABUAEwATABYAEwATABMAFQAVABUAFQAVABUAFQAUABUBFQAVABQAFQAVABUAFAEUABQBFQAVABQAFQAUABUAFAAUABUAFAEUABQAFAAUABQAFQAVABQAFwAWABYAFwAXABcBFQAWABcAFQAXABUAFQAVABcAFQAVABYAFQAXAA==\",\"shape\":\"251, 2\"},\"hovertemplate\":\"Stream=Electronics And Communication\\u003cbr\\u003eCGPA=%{marker.size}\\u003cbr\\u003eInternships=%{y}\\u003cbr\\u003eAge=%{customdata[0]}\\u003cbr\\u003eHostel=%{customdata[1]}\\u003cextra\\u003e\\u003c\\u002fextra\\u003e\",\"legendgroup\":\"Electronics And Communication\",\"marker\":{\"color\":\"#636efa\",\"size\":{\"dtype\":\"i1\",\"bdata\":\"CAgIBgcIBggIBwYHBgcHCAYIBwgGBwcICAcICAgICAgHCAYICAYICAgICAgHBwcICAgICAgHCAgGBgkJCAgICAgGBwgHCAgIBwcGBggIBgYIBwkICAgICQgICAkICAcICAgICQkICAgJBgYGBgcICAYHCAYGCAYICAgICAgICAgIBggGBgYHCAgHCAgICAcIBggIBwgICAgICAcICAcIBggIBggHCAgICQkHCAkGBwcICAcIBwgHBwgICAcIBwgICAgICAgHCAcHBwcHCQkHCQgJCAgJBwcHBwcIBwkJCAgHCAgICAgHCAgIBwcICAYHCAgHCAcICAcICAg=\"},\"sizemode\":\"area\",\"sizeref\":0.0225,\"symbol\":\"circle\"},\"mode\":\"markers\",\"name\":\"Electronics And Communication\",\"showlegend\":true,\"x\":{\"dtype\":\"i1\",\"bdata\":\"CAgIBgcIBggIBwYHBgcHCAYIBwgGBwcICAcICAgICAgHCAYICAYICAgICAgHBwcICAgICAgHCAgGBgkJCAgICAgGBwgHCAgIBwcGBggIBgYIBwkICAgICQgICAkICAcICAgICQkICAgJBgYGBgcICAYHCAYGCAYICAgICAgICAgIBggGBgYHCAgHCAgICAcIBggIBwgICAgICAcICAcIBggIBggHCAgICQkHCAkGBwcICAcIBwgHBwgICAcIBwgICAgICAgHCAcHBwcHCQkHCQgJCAgJBwcHBwcIBwkJCAgHCAgICAgHCAgIBwcICAYHCAgHCAcICAcICAg=\"},\"xaxis\":\"x\",\"y\":{\"dtype\":\"i1\",\"bdata\":\"AQIAAwEAAwAAAgEAAgAAAQIBAgABAAEBAAEBAAAAAQICAQIAAAADAQAAAAABAAAAAQIBAgIBAQICAAABAQEBAAECAAICAQAAAQECAgEBAgIBAgIBAgEBAgIAAQAAAQEBAQEAAQAAAAAAAAABAAABAAMCAAEBAAAAAAIAAQEAAAAAAQEAAAECAAEBAQEAAQIAAAABAQIBAAAAAAAAAAABAwICAgABAQACAAABAQEBAQABAQAAAQIAAQACAAABAQAAAQABAAEBAQAAAAACAQABAAADAwABAAECAAICAQABAQEAAAACAAEAAAIDAQEBAAIAAAICAAAAAAAAAAA=\"},\"yaxis\":\"y\",\"type\":\"scattergl\"},{\"customdata\":{\"dtype\":\"i1\",\"bdata\":\"FQEVABUAFQAWABYAFQEVABUAFgAWABYAFgAVABUAFQAWABcAGAAYABgAGAAXABgAGAAYABcAGAAYABUAFQAWABUAFQAVABUAFgAVABYAFgAWABUAFgEWABYAFgAWABYBFQAWARUAFQAVABYAFQAWARYBFgAVABUAFQAWABUAFgAVARUAFgAVABYAFgAVABYAFQAVARUAFgAVABUBFQEVABUAHgAVABYAFgAVABUAFQAWABYAFgEVABYAFQAWARUBFQAWABUAFQAZABkAGQAZABcAGQAYABoAGAAYARoAFwAYABgAGQAWABYBFQEWARYAFgAWABUAFgAWABYBFQAWABYAFgAWABYAFQAWABUAFgAVABUAFQAVARYAFQAWABUBFQAVABUAFgAWABYAFgAWABYAFQAWABYAFgAVABYAFgEWABYAFgEWARYAFgAVARYAFgEWABUAFgAVABUAFQAVABUAFgAVABUAFQEVARUBFQAVABYAFgAWABUBFQEVARYBFgEWABUAFQAWABUAFgEWABYBFgAWABUAFgAVABUAFgEVABUAFgAWABYAFQAWABoAGgAaABoAGAEYABkAGgAZABkBGgEaABkAGgAZABkAGAAaABgAGQEaABUAFQEVABYAHAEWABYAFgAWABUAGAAYARgAGAAYABgAFQAWARcAFgEYABgAGAAWABQAFAEVABYAFwAVARQAFgAYABUBFwEXABYAFgAWABUAGAAVARcAFAAYARcAFgAXABcBFAAYABgAGAAYABUAFgAYABUAFwAXABUAFgAUABUAEwAUARUBFQAVABYBFgETABYAEwAWARUAFgEUABMAFgAUARUAFQAUABYAEwAUABMAEwATABQAFQATABQAFgAVABUBFQAWABUAFQETABQBFAAWABUAEwAUABMAFQAWABYAFgEVABMAFAAWABQAFAEVABQAEwAUARMBFAAVARMAFgEUABUAFgAWABMAFQAUABMAFAAUABQBFgEWABQAEwEVABQAFgETABQAFQAUABUAEwAVABwAEwAWABQBFAAUABQAFAAVABQAFQAVARQAFQEVABQAFQAVABUAFQAUABUBFQAVARQAFAAVABQAFQEUABUBFAAUABQBFQAUARUAFAEUABUAFQEVARUBFQAXABUAFwAWABcBFwAXABUAFgAVARcAFgEVABcAFgAXARUAFwAWAA==\",\"shape\":\"452, 2\"},\"hovertemplate\":\"Stream=Computer Science\\u003cbr\\u003eCGPA=%{marker.size}\\u003cbr\\u003eInternships=%{y}\\u003cbr\\u003eAge=%{customdata[0]}\\u003cbr\\u003eHostel=%{customdata[1]}\\u003cextra\\u003e\\u003c\\u002fextra\\u003e\",\"legendgroup\":\"Computer Science\",\"marker\":{\"color\":\"#EF553B\",\"size\":{\"dtype\":\"i1\",\"bdata\":\"BwYIBggICAcJCAkJCQgJCAgHBgcGBgUFBQcFBgcGBgYIBwgGCAcICAgICAgIBgcGBwgGCAgICAcIBggICAgIBggHBwcIBggGCAgHBwgICAgHCAcGBggHBwcIBgYHBgYICAgICAYICAgGCAcJBwgHBgcGCAYGBggICAYICAgIBwgGBwgGCAcHBwgHCAYHCAYHCAcIBwcGCAYHCAcIBwcHCAgGCAcHBwgHBgcGBwcICAgHCAgICAgHCAkJCQgICAkJCQkJCQkJCQgICAkJCQkJCAkICQgJCQgHBgYGBgYGBgYHBwYHBwcHBgcHBgYICAYICAgICAYHCAYHBwcIBwgHBwYGBggIBwcHBwgHCAYHBwgICAgGCAgICAcGBgYICAYGBwYICAYGCAgICAgHBwgICAgIBwcICAgICAgHCAgICAgICAgICAgICAgHCAgIBggIBwkGBgkHCAgJCAYGCQkHCAkHCQYIBgcHBggIBggICAYICAcHBwYICAgHCAcICAgICAgGCAgGBgYGCAYICAgIBggICQgJCAgICAkICAkICAgICAcJCAkICAgJCAgICAgGCAgGCAgIBgYICAgICAgICAgICAg=\"},\"sizemode\":\"area\",\"sizeref\":0.0225,\"symbol\":\"circle\"},\"mode\":\"markers\",\"name\":\"Computer Science\",\"showlegend\":true,\"x\":{\"dtype\":\"i1\",\"bdata\":\"BwYIBggICAcJCAkJCQgJCAgHBgcGBgUFBQcFBgcGBgYIBwgGCAcICAgICAgIBgcGBwgGCAgICAcIBggICAgIBggHBwcIBggGCAgHBwgICAgHCAcGBggHBwcIBgYHBgYICAgICAYICAgGCAcJBwgHBgcGCAYGBggICAYICAgIBwgGBwgGCAcHBwgHCAYHCAYHCAcIBwcGCAYHCAcIBwcHCAgGCAcHBwgHBgcGBwcICAgHCAgICAgHCAkJCQgICAkJCQkJCQkJCQgICAkJCQkJCAkICQgJCQgHBgYGBgYGBgYHBwYHBwcHBgcHBgYICAYICAgICAYHCAYHBwcIBwgHBwYGBggIBwcHBwgHCAYHBwgICAgGCAgICAcGBgYICAYGBwYICAYGCAgICAgHBwgICAgIBwcICAgICAgHCAgICAgICAgICAgICAgHCAgIBggIBwkGBgkHCAgJCAYGCQkHCAkHCQYIBgcHBggIBggICAYICAcHBwYICAgHCAcICAgICAgGCAgGBgYGCAYICAgIBggICQgJCAgICAkICAkICAgICAcJCAkICAgJCAgICAgGCAgGCAgIBgYICAgICAgICAgICAg=\"},\"xaxis\":\"x\",\"y\":{\"dtype\":\"i1\",\"bdata\":\"AAIBAQEBAQECAAECAwEBAAEAAAIBAAECAgEBAgABAAIAAgIDAgIBAQADAQAAAgIBAQEBAAIAAQIBAAEAAAIBAgACAAAAAAMAAAAAAQEBAQECAQICAQICAgIBAQIBAgEBAQEAAAIBAQEBAAABAQEDAQEBAAABAQIBAQEBAQIAAQEBAQEAAgEAAQECAQABAAABAAABAQEAAQECAQAAAQEBAAEAAQICAQEBAgIBAQIBAgICAgECAgICAQIBAQECAQEAAAEBAQECAAIBAQECAwABAAABAAEAAQEBAQAAAAAAAAIBAAEBAQICAAEBAAEBAAIBAwABAQMCAQEBAQEAAQEBAgEAAgEAAQAAAgABAQEAAQEBAQMAAQEBAAEAAgMBAQIBAAACAQACAQIBAgEBAAABAAEAAQEAAQEBAwECAQEBAQIAAAAAAQIAAQACAQAAAgIAAgEBAwEBAAAAAQEAAAABAQECAAEBAQABAAECAwAAAQEAAQEAAgIBAgACAAIAAQEBAQECAQAAAgICAQIBAAEBAgEBAQEBAgAAAQEBAQIBAQIBAAIBAAADAAABAgACAQECAQECAQABAAIBAQEAAQIBAgEDAQA=\"},\"yaxis\":\"y\",\"type\":\"scattergl\"},{\"customdata\":{\"dtype\":\"i1\",\"bdata\":\"FgAVABYAFgAVABYAFQAVABUAFQEVABYAFQAWABYAFQAWABYAGAAYABgAFwAXABcBFwEYABcAFwAXABgAGAAYABgAFQAVABUBFgAVABUAFQAVARUAFgEWABUAFQAWABUAFQAVABYAFgAWABYAFQAWABUAFgAWABUAFgAVABUBFQEWABUBFgAVABUAFgAVABYAFQEWABUAFQEVABUAFgAWARUAFgAVABYAFgAVARYBFQAWARUAFQAVABYAFQEVABYAFgAWABUAFgAWABUAGgAaARoAGAAaABcAGAAaABcAGgAZABkAFQAWABUAFQAVABYAFgEWABUAFgAWARUAFQAVABUAFgAVABYAFgAVABYAFgAWABYAFQAWABYAFgAWABUAFQAWABYAFQAWABUAFgAWABYAFQAWABYAFgEWABYAFQAWABYAFQAVABYBFQAVABYAFQAWABYAFQEVABYAFQAVABYAFgAVABYAFgEWABYAFgAVABYAFgAVABYAFQAVABYAFgAWARUAFgAVABYAFQAVABYAFQEVARUAFQAWARUAFgAWABUAFQAVARYAFQAWABUAFQAWABUAFQAWABYAFgAWARUAFgAWABUAFQAVABYBFQEZABgAGgAaABoAGAAaABYAFgAVABYAFQAWABYAFQAWARUAFgAVABYAFQAWARYAFgAYABUAFwAVABgAFQAVABUAGAAWABUAGAAWABQAFwAYABcAFgAYABcAFAAVABYAGAAYABgAGAAYABgAFAAWARgAGAAYABUAFQAYABUAFgAWABQAFwAVABcAFAAWABUAEwAUABQBEwAUARQAFgAUARUAFQEUARYAFgAVABQAEwAVABUAFgATABQAFAATABUAFgATABYAEwATABQAFAAVARMBFQEUARMAEwATABUAFQATABYAFgAWARUBFQAVABUAFAATABMAEwAVABYAFgAUABQAFgAUABQAFQAUABQAFQEUARQAFQEUABUAFQEUABUAFAAVABQBFQAUABUBFQAUABQAFAAVABQAFQAVABQAFAAUABUAFQAUABQAFQEWABcAFQEXARYAFgAVABcBFwAXABUAFQA=\",\"shape\":\"409, 2\"},\"hovertemplate\":\"Stream=Information Technology\\u003cbr\\u003eCGPA=%{marker.size}\\u003cbr\\u003eInternships=%{y}\\u003cbr\\u003eAge=%{customdata[0]}\\u003cbr\\u003eHostel=%{customdata[1]}\\u003cextra\\u003e\\u003c\\u002fextra\\u003e\",\"legendgroup\":\"Information Technology\",\"marker\":{\"color\":\"#00cc96\",\"size\":{\"dtype\":\"i1\",\"bdata\":\"BggICAYIBwgJCAgJCAkICAYIBgYHBwYHBwUGBQcHBQcGBgcGCAgIBwgICAgICAYGBwcGBwYICAgIBgcICAgGCAgICAgGBwgGCAYICAcICAgICAgGCAYHCAcIBggIBgcGBggICAgIBgYICAgIBgcIBgYIBgYGBwgIBwcGCAcHCAgGBgYIBgYIBggIBggICAgICAYHBwgIBgYGCAgGBwcHBwgHBggIBgcIBggIBgYHCAYICAcHCAYHCAcGBggHBwgICAkJCQkICQgICQkJCAgICQgJCAgIBwkJCQkHCQkJBwkICAgICQgJCAcGBwYHBwYICAgIBggICAgICAgICAgIBgYICAgICAcIBggHBwcHCAgHBwYHCAgIBggGBgYGCAgGCAYICAgHCAYICAgGCAcHCAgICAcHCAgICAgICAgICAgGBgcIBwgJBgkJBggIBwgJCQkIBggHBwgHBggICAgICAcICAgICAgICAgIBggICAgGCAgICQgICAkICAgICAkICQgJCQgJCAgICAgICAgICAgIBggICAgICA==\"},\"sizemode\":\"area\",\"sizeref\":0.0225,\"symbol\":\"circle\"},\"mode\":\"markers\",\"name\":\"Information Technology\",\"showlegend\":true,\"x\":{\"dtype\":\"i1\",\"bdata\":\"BggICAYIBwgJCAgJCAkICAYIBgYHBwYHBwUGBQcHBQcGBgcGCAgIBwgICAgICAYGBwcGBwYICAgIBgcICAgGCAgICAgGBwgGCAYICAcICAgICAgGCAYHCAcIBggIBgcGBggICAgIBgYICAgIBgcIBgYIBgYGBwgIBwcGCAcHCAgGBgYIBgYIBggIBggICAgICAYHBwgIBgYGCAgGBwcHBwgHBggIBgcIBggIBgYHCAYICAcHCAYHCAcGBggHBwgICAkJCQkICQgICQkJCAgICQgJCAgIBwkJCQkHCQkJBwkICAgICQgJCAcGBwYHBwYICAgIBggICAgICAgICAgIBgYICAgICAcIBggHBwcHCAgHBwYHCAgIBggGBgYGCAgGCAYICAgHCAYICAgGCAcHCAgICAcHCAgICAgICAgICAgGBgcIBwgJBgkJBggIBwgJCQkIBggHBwgHBggICAgICAcICAgICAgICAgIBggICAgGCAgICQgICAkICAgICAkICQgJCQgJCAgICAgICAgICAgIBggICAgICA==\"},\"xaxis\":\"x\",\"y\":{\"dtype\":\"i1\",\"bdata\":\"AQABAQACAgAAAQAAAAEAAAEAAgABAQEBAQMCAQEBAAMBAQACAQAAAgIAAQABAQIAAgAAAgAAAAAAAQECAAECAQABAQEBAAEBAQABAwABAAEAAAECAAICAgEBAgIBAgEBAAECAAACAQEAAAEBAQEAAQEBAAEBAAIBAQAAAAEAAAEAAAAAAgEAAQAAAgAAAQEBAAAAAgMBAAECAgIAAgECAAAAAQEBAAACAAABAQEBAgACAQICAQICAQICAgIBAgEBAgECAQECAgECAQEAAAEBAQIBAQEBAAEAAAEAAgAAAAEAAQAAAAEBAQABAgEAAAAAAQECAgMAAgECAgEBAAEBAQEBAAAAAAEAAAAAAQABAQEAAQACAQEBAAIBAQAAAAEAAAEAAgICAAICAAECAAEAAQEBAAEAAAEAAQEAAQABAQACAgMBAgEBAQABAQIAAQEBAwMBAgABAgIAAQEBAAABAAICAQACAAABAQAAAgEAAQECAQABAQAAAAIBAAABAQACAQEAAQAAAgACAAEAAQEAAQMBAgABAQEAAA==\"},\"yaxis\":\"y\",\"type\":\"scattergl\"},{\"customdata\":{\"dtype\":\"i1\",\"bdata\":\"FgEWARYBFgAVARUBFgEWARUBFwEXARcBFwEYABUBFgEVABUBFgEWARYBFQEWARUAFgEWARUBFQEWARUBFgEWARYBFgEVARUBFQEWARYBFgEWARUBFgEWARYAFQEWARYBFQEVARYBFQEYARcBGAAYABcBGAEWARYBFQEWABUBFQEWARUBFQEVARYBFQEVARUBFgEVARYBFgEVARYBFQEVARYBFQEVARUBFgEWARYBFQEVARUBFgEWARYBFgEWARUBFQEWABUBFQEWARYBGgEaABoBGQEWARYBFgEWARgBFQEYARcBGAEYABgBFAEUABcBGAEYARUBGAEWARgBFgAVABUBFAEUARgBFgEXARQBFgEWARQBEwEUARUBFQEUARMBFAEUARMBEwAUARQBFQETARYBFAEVARMBFgATARYAFgEVAR0BEwEVARQBFAEWABQBEwETARMAFAEVARUBFQEVARQBFAEVARQBFQEUARUBFAEUARUBFQAVARQBFAEUARUBFQEWARcBFgEWARUBFQEXAQ==\",\"shape\":\"200, 2\"},\"hovertemplate\":\"Stream=Mechanical\\u003cbr\\u003eCGPA=%{marker.size}\\u003cbr\\u003eInternships=%{y}\\u003cbr\\u003eAge=%{customdata[0]}\\u003cbr\\u003eHostel=%{customdata[1]}\\u003cextra\\u003e\\u003c\\u002fextra\\u003e\",\"legendgroup\":\"Mechanical\",\"marker\":{\"color\":\"#ab63fa\",\"size\":{\"dtype\":\"i1\",\"bdata\":\"CAgICQgJCAgIBgcGBgYICAgICAgIBgYHCAgGBwcICAgIBggGCAYGBwcGCAgICAgGCAYIBggICQgJBggICAgICAgICAgICAgGBggICAgJCQkJCAkICQkICQkJCQkJCQgICQkICQgJBgYGBggICAgGBgcHCAcICAgIBgYICAgGCAgICAgICAgICAgICAgICAgICAgJBgkHBgcICQgICAgICAgICAgGCAgICAgICAgICAYICAgICQgJCQkICAkICAgICAgICAgGCAg=\"},\"sizemode\":\"area\",\"sizeref\":0.0225,\"symbol\":\"circle\"},\"mode\":\"markers\",\"name\":\"Mechanical\",\"showlegend\":true,\"x\":{\"dtype\":\"i1\",\"bdata\":\"CAgICQgJCAgIBgcGBgYICAgICAgIBgYHCAgGBwcICAgIBggGCAYGBwcGCAgICAgGCAYIBggICQgJBggICAgICAgICAgICAgGBggICAgJCQkJCAkICQkICQkJCQkJCQgICQkICQgJBgYGBggICAgGBgcHCAcICAgIBgYICAgGCAgICAgICAgICAgICAgICAgICAgJBgkHBgcICQgICAgICAgICAgGCAgICAgICAgICAYICAgICQgJCQkICAkICAgICAgICAgGCAg=\"},\"xaxis\":\"x\",\"y\":{\"dtype\":\"i1\",\"bdata\":\"AAABAAAAAAAAAAIAAQAAAAABAQABAAAAAAAAAAAAAAAAAAAAAAAAAgACAAABAQECAQIAAgIBAAAAAAABAAEAAQEAAAABAAECAgICAQIBAgEBAQAAAAIAAQABAAEAAAABAAIBAAAAAAEBAQABAAEAAAABAQEAAAEBAAAAAQAAAAAAAQAAAAEAAQABAQABAAACAAAAAAEAAAMAAQEAAAEAAQABAQACAQAAAAEBAQAAAQMDAQEBAQEBAAAAAQAAAAABAAEAAQADAAA=\"},\"yaxis\":\"y\",\"type\":\"scattergl\"},{\"customdata\":{\"dtype\":\"i1\",\"bdata\":\"FgAVARYAFQAVARUAFQAVABYAFQAWABUAFgAVABUAFgAVABYAFgAWABYAFQAVABYAFgAWABYAFQAVABUAFgAWABUAFQAYABgAGQAaARoAFwAaABoAFQAWABUAFgAWARUAFQEVABYAFgEWABUAFQAVABYAFQAVABUBFgAVABUBFgAWABYAFQEVABYAFQAVABYAFQAVABYAFQAVARUAFQAVABoAGAAaABUAFgAVABUAFQAWABUAFQAVABcAFAAVABUAFQEVABcAFwAXABYBFwAXABQAGAAWABUAFAETABMAFQATABUAFQAVARQAFQAUABUAFAETABQAFQATABYAFAAWABMAFQAUABMAEwATABMAEwAVABMAFQATABUAEwAUABUAFQAUABUAFAAVABUAFAEUABQAFQAVABQAFAAVABQAFAAVABQAFQAUABUAFQAUABQBFAAUARQAFAAVABUAFAAVABUAFAAWABUAFwA=\",\"shape\":\"181, 2\"},\"hovertemplate\":\"Stream=Electrical\\u003cbr\\u003eCGPA=%{marker.size}\\u003cbr\\u003eInternships=%{y}\\u003cbr\\u003eAge=%{customdata[0]}\\u003cbr\\u003eHostel=%{customdata[1]}\\u003cextra\\u003e\\u003c\\u002fextra\\u003e\",\"legendgroup\":\"Electrical\",\"marker\":{\"color\":\"#FFA15A\",\"size\":{\"dtype\":\"i1\",\"bdata\":\"CAgIBwcHCAgIBgYHCAYHCAgIBggIBwYICAgICAcIBggICAgHCAgJCAgICAgHCAgHBwgICAYIBwgGCAgHCAkHCAgJCAgICAgJBwgJCAgICAkGBwYHCAgHCAgICAgICAcIBgYIBwgGCAcHBwgIBwgICAgICAcIBwgICAgHCQkIBggHBwgHBwgHCAgHCAgICAgHBwcIBwgICQcJCQkICAkJBwkHCAkJCAcIBwcHCAgICAgICAgICA==\"},\"sizemode\":\"area\",\"sizeref\":0.0225,\"symbol\":\"circle\"},\"mode\":\"markers\",\"name\":\"Electrical\",\"showlegend\":true,\"x\":{\"dtype\":\"i1\",\"bdata\":\"CAgIBwcHCAgIBgYHCAYHCAgIBggIBwYICAgICAcIBggICAgHCAgJCAgICAgHCAgHBwgICAYIBwgGCAgHCAkHCAgJCAgICAgJBwgJCAgICAkGBwYHCAgHCAgICAgICAcIBgYIBwgGCAcHBwgIBwgICAgICAcIBwgICAgHCQkIBggHBwgHBwgHCAgHCAgICAgHBwcIBwgICQcJCQkICAkJBwkHCAkJCAcIBwcHCAgICAgICAgICA==\"},\"xaxis\":\"x\",\"y\":{\"dtype\":\"i1\",\"bdata\":\"AQABAQEBAQEBAQEBAQIBAgABAAEAAwAAAAABAQECAgIAAQEBAAIAAAEBAAABAAAAAgEAAAICAgICAQECAgEBAgEAAAAAAAEAAQIBAAEAAQAAAQABAAABAAEAAAIAAQAAAgAAAAACAQEBAQABAgEAAAEAAQEAAQABAAABAQMAAQACAQABAgABAAABAQAAAgABAQIAAQABAAMAAQABAQEAAQABAAAAAAEAAQEBAAAAAAEBAAIAAQ==\"},\"yaxis\":\"y\",\"type\":\"scattergl\"},{\"customdata\":{\"dtype\":\"i1\",\"bdata\":\"FgAWABYBFQAVABUAFQAXABgAFwEYABUBFQAVARUAFQAWABYAFgEWABUAFgAVABwBFQAVARUAFgAVABUAFQEWABYAFgEZARoAGgAaARYBFQAVARYAFgAVABUAFgAVABUAFQEWABYBFgEWABUAFgAWABYAFQEWABUAFgAVABUAFQAVABoAGAAWARUAFQEWABYAFAAXABgAFgAUARgBFQAVARUAFAAUABgAGAAWARUBGAEXABgAFQATABMAFAATARMBFQAUARYBFAEUARYAEwETABUAFAAUABMAFgAWARQBFgEUABMAEwEWABUBFQEVABQAFAAUABUAFQAUABQAFQAUABUBFAEVABQAFAAUABQAFQAUABQAFQAXABYBFwAXARUAFgAXAA==\",\"shape\":\"146, 2\"},\"hovertemplate\":\"Stream=Civil\\u003cbr\\u003eCGPA=%{marker.size}\\u003cbr\\u003eInternships=%{y}\\u003cbr\\u003eAge=%{customdata[0]}\\u003cbr\\u003eHostel=%{customdata[1]}\\u003cextra\\u003e\\u003c\\u002fextra\\u003e\",\"legendgroup\":\"Civil\",\"marker\":{\"color\":\"#19d3f3\",\"size\":{\"dtype\":\"i1\",\"bdata\":\"CAcICAgJCAYHBwcGBgcICAYGCAgICAgIBgYICAgICAgIBgkGCQgICAgICAgICAgICAgIBggJCAkIBwgJCQkJCQgGBggICAgICAgIBgYICAgHCAYGBggIBggGCAgICAYICAgJCQkICAYICAgICAgICAgICAgICAgICAgICAkJCAkJCQkJCQkJCAgICAgICAgICAg=\"},\"sizemode\":\"area\",\"sizeref\":0.0225,\"symbol\":\"circle\"},\"mode\":\"markers\",\"name\":\"Civil\",\"showlegend\":true,\"x\":{\"dtype\":\"i1\",\"bdata\":\"CAcICAgJCAYHBwcGBgcICAYGCAgICAgIBgYICAgICAgIBgkGCQgICAgICAgICAgICAgIBggJCAkIBwgJCQkJCQgGBggICAgICAgIBgYICAgHCAYGBggIBggGCAgICAYICAgJCQkICAYICAgICAgICAgICAgICAgICAgICAkJCAkJCQkJCQkJCAgICAgICAgICAg=\"},\"xaxis\":\"x\",\"y\":{\"dtype\":\"i1\",\"bdata\":\"AAAAAAAAAQABAAADAQAAAAEAAAEAAAEAAAIBAQEBAgEBAgAAAAAAAQAAAQABAAEAAAACAgICAQICAgABAAAAAAIBAAACAAEAAAAAAAEAAAAAAAIAAQAAAAABAQEAAQIAAQAAAQIAAAEAAQABAQAAAAEBAAEAAAAAAQABAAICAQEAAAMAAAABAAEBAQEAAgAAAAA=\"},\"yaxis\":\"y\",\"type\":\"scattergl\"}],                        {\"template\":{\"data\":{\"histogram2dcontour\":[{\"type\":\"histogram2dcontour\",\"colorbar\":{\"outlinewidth\":0,\"ticks\":\"\"},\"colorscale\":[[0.0,\"#0d0887\"],[0.1111111111111111,\"#46039f\"],[0.2222222222222222,\"#7201a8\"],[0.3333333333333333,\"#9c179e\"],[0.4444444444444444,\"#bd3786\"],[0.5555555555555556,\"#d8576b\"],[0.6666666666666666,\"#ed7953\"],[0.7777777777777778,\"#fb9f3a\"],[0.8888888888888888,\"#fdca26\"],[1.0,\"#f0f921\"]]}],\"choropleth\":[{\"type\":\"choropleth\",\"colorbar\":{\"outlinewidth\":0,\"ticks\":\"\"}}],\"histogram2d\":[{\"type\":\"histogram2d\",\"colorbar\":{\"outlinewidth\":0,\"ticks\":\"\"},\"colorscale\":[[0.0,\"#0d0887\"],[0.1111111111111111,\"#46039f\"],[0.2222222222222222,\"#7201a8\"],[0.3333333333333333,\"#9c179e\"],[0.4444444444444444,\"#bd3786\"],[0.5555555555555556,\"#d8576b\"],[0.6666666666666666,\"#ed7953\"],[0.7777777777777778,\"#fb9f3a\"],[0.8888888888888888,\"#fdca26\"],[1.0,\"#f0f921\"]]}],\"heatmap\":[{\"type\":\"heatmap\",\"colorbar\":{\"outlinewidth\":0,\"ticks\":\"\"},\"colorscale\":[[0.0,\"#0d0887\"],[0.1111111111111111,\"#46039f\"],[0.2222222222222222,\"#7201a8\"],[0.3333333333333333,\"#9c179e\"],[0.4444444444444444,\"#bd3786\"],[0.5555555555555556,\"#d8576b\"],[0.6666666666666666,\"#ed7953\"],[0.7777777777777778,\"#fb9f3a\"],[0.8888888888888888,\"#fdca26\"],[1.0,\"#f0f921\"]]}],\"contourcarpet\":[{\"type\":\"contourcarpet\",\"colorbar\":{\"outlinewidth\":0,\"ticks\":\"\"}}],\"contour\":[{\"type\":\"contour\",\"colorbar\":{\"outlinewidth\":0,\"ticks\":\"\"},\"colorscale\":[[0.0,\"#0d0887\"],[0.1111111111111111,\"#46039f\"],[0.2222222222222222,\"#7201a8\"],[0.3333333333333333,\"#9c179e\"],[0.4444444444444444,\"#bd3786\"],[0.5555555555555556,\"#d8576b\"],[0.6666666666666666,\"#ed7953\"],[0.7777777777777778,\"#fb9f3a\"],[0.8888888888888888,\"#fdca26\"],[1.0,\"#f0f921\"]]}],\"surface\":[{\"type\":\"surface\",\"colorbar\":{\"outlinewidth\":0,\"ticks\":\"\"},\"colorscale\":[[0.0,\"#0d0887\"],[0.1111111111111111,\"#46039f\"],[0.2222222222222222,\"#7201a8\"],[0.3333333333333333,\"#9c179e\"],[0.4444444444444444,\"#bd3786\"],[0.5555555555555556,\"#d8576b\"],[0.6666666666666666,\"#ed7953\"],[0.7777777777777778,\"#fb9f3a\"],[0.8888888888888888,\"#fdca26\"],[1.0,\"#f0f921\"]]}],\"mesh3d\":[{\"type\":\"mesh3d\",\"colorbar\":{\"outlinewidth\":0,\"ticks\":\"\"}}],\"scatter\":[{\"fillpattern\":{\"fillmode\":\"overlay\",\"size\":10,\"solidity\":0.2},\"type\":\"scatter\"}],\"parcoords\":[{\"type\":\"parcoords\",\"line\":{\"colorbar\":{\"outlinewidth\":0,\"ticks\":\"\"}}}],\"scatterpolargl\":[{\"type\":\"scatterpolargl\",\"marker\":{\"colorbar\":{\"outlinewidth\":0,\"ticks\":\"\"}}}],\"bar\":[{\"error_x\":{\"color\":\"#2a3f5f\"},\"error_y\":{\"color\":\"#2a3f5f\"},\"marker\":{\"line\":{\"color\":\"#E5ECF6\",\"width\":0.5},\"pattern\":{\"fillmode\":\"overlay\",\"size\":10,\"solidity\":0.2}},\"type\":\"bar\"}],\"scattergeo\":[{\"type\":\"scattergeo\",\"marker\":{\"colorbar\":{\"outlinewidth\":0,\"ticks\":\"\"}}}],\"scatterpolar\":[{\"type\":\"scatterpolar\",\"marker\":{\"colorbar\":{\"outlinewidth\":0,\"ticks\":\"\"}}}],\"histogram\":[{\"marker\":{\"pattern\":{\"fillmode\":\"overlay\",\"size\":10,\"solidity\":0.2}},\"type\":\"histogram\"}],\"scattergl\":[{\"type\":\"scattergl\",\"marker\":{\"colorbar\":{\"outlinewidth\":0,\"ticks\":\"\"}}}],\"scatter3d\":[{\"type\":\"scatter3d\",\"line\":{\"colorbar\":{\"outlinewidth\":0,\"ticks\":\"\"}},\"marker\":{\"colorbar\":{\"outlinewidth\":0,\"ticks\":\"\"}}}],\"scattermap\":[{\"type\":\"scattermap\",\"marker\":{\"colorbar\":{\"outlinewidth\":0,\"ticks\":\"\"}}}],\"scattermapbox\":[{\"type\":\"scattermapbox\",\"marker\":{\"colorbar\":{\"outlinewidth\":0,\"ticks\":\"\"}}}],\"scatterternary\":[{\"type\":\"scatterternary\",\"marker\":{\"colorbar\":{\"outlinewidth\":0,\"ticks\":\"\"}}}],\"scattercarpet\":[{\"type\":\"scattercarpet\",\"marker\":{\"colorbar\":{\"outlinewidth\":0,\"ticks\":\"\"}}}],\"carpet\":[{\"aaxis\":{\"endlinecolor\":\"#2a3f5f\",\"gridcolor\":\"white\",\"linecolor\":\"white\",\"minorgridcolor\":\"white\",\"startlinecolor\":\"#2a3f5f\"},\"baxis\":{\"endlinecolor\":\"#2a3f5f\",\"gridcolor\":\"white\",\"linecolor\":\"white\",\"minorgridcolor\":\"white\",\"startlinecolor\":\"#2a3f5f\"},\"type\":\"carpet\"}],\"table\":[{\"cells\":{\"fill\":{\"color\":\"#EBF0F8\"},\"line\":{\"color\":\"white\"}},\"header\":{\"fill\":{\"color\":\"#C8D4E3\"},\"line\":{\"color\":\"white\"}},\"type\":\"table\"}],\"barpolar\":[{\"marker\":{\"line\":{\"color\":\"#E5ECF6\",\"width\":0.5},\"pattern\":{\"fillmode\":\"overlay\",\"size\":10,\"solidity\":0.2}},\"type\":\"barpolar\"}],\"pie\":[{\"automargin\":true,\"type\":\"pie\"}]},\"layout\":{\"autotypenumbers\":\"strict\",\"colorway\":[\"#636efa\",\"#EF553B\",\"#00cc96\",\"#ab63fa\",\"#FFA15A\",\"#19d3f3\",\"#FF6692\",\"#B6E880\",\"#FF97FF\",\"#FECB52\"],\"font\":{\"color\":\"#2a3f5f\"},\"hovermode\":\"closest\",\"hoverlabel\":{\"align\":\"left\"},\"paper_bgcolor\":\"white\",\"plot_bgcolor\":\"#E5ECF6\",\"polar\":{\"bgcolor\":\"#E5ECF6\",\"angularaxis\":{\"gridcolor\":\"white\",\"linecolor\":\"white\",\"ticks\":\"\"},\"radialaxis\":{\"gridcolor\":\"white\",\"linecolor\":\"white\",\"ticks\":\"\"}},\"ternary\":{\"bgcolor\":\"#E5ECF6\",\"aaxis\":{\"gridcolor\":\"white\",\"linecolor\":\"white\",\"ticks\":\"\"},\"baxis\":{\"gridcolor\":\"white\",\"linecolor\":\"white\",\"ticks\":\"\"},\"caxis\":{\"gridcolor\":\"white\",\"linecolor\":\"white\",\"ticks\":\"\"}},\"coloraxis\":{\"colorbar\":{\"outlinewidth\":0,\"ticks\":\"\"}},\"colorscale\":{\"sequential\":[[0.0,\"#0d0887\"],[0.1111111111111111,\"#46039f\"],[0.2222222222222222,\"#7201a8\"],[0.3333333333333333,\"#9c179e\"],[0.4444444444444444,\"#bd3786\"],[0.5555555555555556,\"#d8576b\"],[0.6666666666666666,\"#ed7953\"],[0.7777777777777778,\"#fb9f3a\"],[0.8888888888888888,\"#fdca26\"],[1.0,\"#f0f921\"]],\"sequentialminus\":[[0.0,\"#0d0887\"],[0.1111111111111111,\"#46039f\"],[0.2222222222222222,\"#7201a8\"],[0.3333333333333333,\"#9c179e\"],[0.4444444444444444,\"#bd3786\"],[0.5555555555555556,\"#d8576b\"],[0.6666666666666666,\"#ed7953\"],[0.7777777777777778,\"#fb9f3a\"],[0.8888888888888888,\"#fdca26\"],[1.0,\"#f0f921\"]],\"diverging\":[[0,\"#8e0152\"],[0.1,\"#c51b7d\"],[0.2,\"#de77ae\"],[0.3,\"#f1b6da\"],[0.4,\"#fde0ef\"],[0.5,\"#f7f7f7\"],[0.6,\"#e6f5d0\"],[0.7,\"#b8e186\"],[0.8,\"#7fbc41\"],[0.9,\"#4d9221\"],[1,\"#276419\"]]},\"xaxis\":{\"gridcolor\":\"white\",\"linecolor\":\"white\",\"ticks\":\"\",\"title\":{\"standoff\":15},\"zerolinecolor\":\"white\",\"automargin\":true,\"zerolinewidth\":2},\"yaxis\":{\"gridcolor\":\"white\",\"linecolor\":\"white\",\"ticks\":\"\",\"title\":{\"standoff\":15},\"zerolinecolor\":\"white\",\"automargin\":true,\"zerolinewidth\":2},\"scene\":{\"xaxis\":{\"backgroundcolor\":\"#E5ECF6\",\"gridcolor\":\"white\",\"linecolor\":\"white\",\"showbackground\":true,\"ticks\":\"\",\"zerolinecolor\":\"white\",\"gridwidth\":2},\"yaxis\":{\"backgroundcolor\":\"#E5ECF6\",\"gridcolor\":\"white\",\"linecolor\":\"white\",\"showbackground\":true,\"ticks\":\"\",\"zerolinecolor\":\"white\",\"gridwidth\":2},\"zaxis\":{\"backgroundcolor\":\"#E5ECF6\",\"gridcolor\":\"white\",\"linecolor\":\"white\",\"showbackground\":true,\"ticks\":\"\",\"zerolinecolor\":\"white\",\"gridwidth\":2}},\"shapedefaults\":{\"line\":{\"color\":\"#2a3f5f\"}},\"annotationdefaults\":{\"arrowcolor\":\"#2a3f5f\",\"arrowhead\":0,\"arrowwidth\":1},\"geo\":{\"bgcolor\":\"white\",\"landcolor\":\"#E5ECF6\",\"subunitcolor\":\"white\",\"showland\":true,\"showlakes\":true,\"lakecolor\":\"white\"},\"title\":{\"x\":0.05},\"mapbox\":{\"style\":\"light\"}}},\"xaxis\":{\"anchor\":\"y\",\"domain\":[0.0,1.0],\"title\":{\"text\":\"CGPA\"}},\"yaxis\":{\"anchor\":\"x\",\"domain\":[0.0,1.0],\"title\":{\"text\":\"Internships\"}},\"legend\":{\"title\":{\"text\":\"Stream\"},\"tracegroupgap\":0,\"itemsizing\":\"constant\"},\"title\":{\"text\":\"Placed Students: CGPA vs Internships\"}},                        {\"responsive\": true}                    ).then(function(){\n",
              "                            \n",
              "var gd = document.getElementById('43ef4bfc-8214-4cc3-be85-a0883ac46e41');\n",
              "var x = new MutationObserver(function (mutations, observer) {{\n",
              "        var display = window.getComputedStyle(gd).display;\n",
              "        if (!display || display === 'none') {{\n",
              "            console.log([gd, 'removed!']);\n",
              "            Plotly.purge(gd);\n",
              "            observer.disconnect();\n",
              "        }}\n",
              "}});\n",
              "\n",
              "// Listen for the removal of the full notebook cells\n",
              "var notebookContainer = gd.closest('#notebook-container');\n",
              "if (notebookContainer) {{\n",
              "    x.observe(notebookContainer, {childList: true});\n",
              "}}\n",
              "\n",
              "// Listen for the clearing of the current output cell\n",
              "var outputEl = gd.closest('.output');\n",
              "if (outputEl) {{\n",
              "    x.observe(outputEl, {childList: true});\n",
              "}}\n",
              "\n",
              "                        })                };            </script>        </div>\n",
              "</body>\n",
              "</html>"
            ]
          },
          "metadata": {}
        }
      ],
      "source": [
        "placed = df[df['PlacedOrNot']==1]\n",
        "fig = px.scatter(\n",
        "    placed, x='CGPA', y='Internships',\n",
        "    size='CGPA', color='Stream',\n",
        "    hover_data=['Age','Hostel'],\n",
        "    title='Placed Students: CGPA vs Internships'\n",
        ")\n",
        "fig.show()"
      ]
    },
    {
      "cell_type": "code",
      "source": [
        "plt.figure(figsize=(6,4))\n",
        "sns.boxplot(x='PlacedOrNot', y='CGPA', data=df)\n",
        "plt.title(\"CGPA by placement outcome\")\n",
        "plt.xticks([0,1], ['Not Placed','Placed'])\n",
        "plt.show()"
      ],
      "metadata": {
        "colab": {
          "base_uri": "https://localhost:8080/",
          "height": 410
        },
        "id": "LisiRSog7b-D",
        "outputId": "b2c81fbe-b63f-4708-ab05-e86010af26e0"
      },
      "id": "LisiRSog7b-D",
      "execution_count": 26,
      "outputs": [
        {
          "output_type": "display_data",
          "data": {
            "text/plain": [
              "<Figure size 600x400 with 1 Axes>"
            ],
            "image/png": "[encoded data removed]"
          },
          "metadata": {}
        }
      ]
    },
    {
      "cell_type": "markdown",
      "id": "d11e4aa1",
      "metadata": {
        "id": "d11e4aa1"
      },
      "source": [
        "## Categorical Placement Rates"
      ]
    },
    {
      "cell_type": "code",
      "execution_count": 27,
      "id": "a8763b57",
      "metadata": {
        "colab": {
          "base_uri": "https://localhost:8080/",
          "height": 472
        },
        "id": "a8763b57",
        "outputId": "7d904095-48fc-42bc-d7a3-f978b81b488f"
      },
      "outputs": [
        {
          "output_type": "display_data",
          "data": {
            "text/plain": [
              "<Figure size 640x480 with 1 Axes>"
            ],
            "image/png": "[encoded data removed]"
          },
          "metadata": {}
        }
      ],
      "source": [
        "gender_rates = df.groupby('Gender')['PlacedOrNot'].mean().reset_index()\n",
        "sns.barplot(x='Gender', y='PlacedOrNot', data=gender_rates)\n",
        "plt.title(\"Placement rate by gender\")\n",
        "plt.ylim(0,1)\n",
        "plt.show()"
      ]
    },
    {
      "cell_type": "code",
      "source": [
        "hostel_rates = df.groupby('Hostel')['PlacedOrNot'].mean().reset_index()\n",
        "sns.barplot(x='Hostel', y='PlacedOrNot', data=hostel_rates)\n",
        "plt.title(\"Placement rate by living in hostel\")\n",
        "plt.ylim(0,1)\n",
        "plt.show()"
      ],
      "metadata": {
        "id": "dUlpODSgWRJR",
        "colab": {
          "base_uri": "https://localhost:8080/",
          "height": 472
        },
        "outputId": "edae9804-5ad8-471a-f982-66c6208fa432"
      },
      "id": "dUlpODSgWRJR",
      "execution_count": 28,
      "outputs": [
        {
          "output_type": "display_data",
          "data": {
            "text/plain": [
              "<Figure size 640x480 with 1 Axes>"
            ],
            "image/png": "[encoded data removed]"
          },
          "metadata": {}
        }
      ]
    },
    {
      "cell_type": "markdown",
      "id": "269bc83f",
      "metadata": {
        "id": "269bc83f"
      },
      "source": [
        "## Stream-level Analysis"
      ]
    },
    {
      "cell_type": "code",
      "execution_count": 29,
      "id": "94519141",
      "metadata": {
        "colab": {
          "base_uri": "https://localhost:8080/",
          "height": 564
        },
        "id": "94519141",
        "outputId": "0d344a25-9557-4384-f465-b939eda69806"
      },
      "outputs": [
        {
          "output_type": "display_data",
          "data": {
            "text/plain": [
              "<Figure size 800x600 with 1 Axes>"
            ],
            "image/png": "[encoded data removed]"
          },
          "metadata": {}
        }
      ],
      "source": [
        "stream_rates = df.groupby('Stream')['PlacedOrNot'].mean().sort_values()\n",
        "plt.figure(figsize=(8,6))\n",
        "stream_rates.plot(kind='barh')\n",
        "plt.title(\"Placement rate across streams\")\n",
        "plt.xlabel(\"Placement rate\")\n",
        "plt.show()"
      ]
    },
    {
      "cell_type": "markdown",
      "id": "5db2df97",
      "metadata": {
        "id": "5db2df97"
      },
      "source": [
        "## Outlier Detection"
      ]
    },
    {
      "cell_type": "code",
      "execution_count": 30,
      "id": "361b4bca",
      "metadata": {
        "colab": {
          "base_uri": "https://localhost:8080/",
          "height": 390
        },
        "id": "361b4bca",
        "outputId": "7e7e429f-be9c-4f40-e4f4-e761d6ddfa56"
      },
      "outputs": [
        {
          "output_type": "display_data",
          "data": {
            "text/plain": [
              "<Figure size 600x400 with 1 Axes>"
            ],
            "image/png": "[encoded data removed]"
          },
          "metadata": {}
        },
        {
          "output_type": "stream",
          "name": "stdout",
          "text": [
            "CGPA extremes at 1% and 99% are about 5.00 and 9.00\n"
          ]
        }
      ],
      "source": [
        "plt.figure(figsize=(6,4))\n",
        "sns.boxplot(y='HistoryOfBacklogs', data=df)\n",
        "plt.title(\"Distribution of backlogs\")\n",
        "plt.show()\n",
        "\n",
        "q_low, q_high = df['CGPA'].quantile([0.01,0.99])\n",
        "print(f\"CGPA extremes at 1% and 99% are about {q_low:.2f} and {q_high:.2f}\")"
      ]
    },
    {
      "cell_type": "markdown",
      "id": "055b2ce2",
      "metadata": {
        "id": "055b2ce2"
      },
      "source": [
        "## Imputation & Outlier Treatment"
      ]
    },
    {
      "cell_type": "code",
      "execution_count": 31,
      "id": "99ecadff",
      "metadata": {
        "id": "99ecadff"
      },
      "outputs": [],
      "source": [
        "numeric_features = ['Age','Internships','CGPA','HistoryOfBacklogs']\n",
        "df[numeric_features] = SimpleImputer(strategy='median').fit_transform(df[numeric_features])\n",
        "\n",
        "df['CGPA'] = winsorize(df['CGPA'], limits=[0.01,0.01])\n",
        "df['Internships'] = winsorize(df['Internships'], limits=[0.01,0.01])"
      ]
    },
    {
      "cell_type": "markdown",
      "id": "d854c2dd",
      "metadata": {
        "id": "d854c2dd"
      },
      "source": [
        "# Feature Engineering"
      ]
    },
    {
      "cell_type": "code",
      "execution_count": 32,
      "id": "fb81a5ad",
      "metadata": {
        "id": "fb81a5ad"
      },
      "outputs": [],
      "source": [
        "df['HasBacklog'] = (df['HistoryOfBacklogs'] > 0).astype(int)\n",
        "\n",
        "poly = PolynomialFeatures(degree=2, include_bias=False)\n",
        "poly_feats = poly.fit_transform(df[['CGPA','Internships']])\n",
        "poly_df = pd.DataFrame(poly_feats, columns=poly.get_feature_names_out(['CGPA','Internships']))\n",
        "df = pd.concat([df, poly_df], axis=1)\n",
        "\n",
        "df['Cluster'] = KMeans(n_clusters=5, random_state=42).fit_predict(df[['CGPA','Internships']])"
      ]
    },
    {
      "cell_type": "markdown",
      "id": "69bdf393",
      "metadata": {
        "id": "69bdf393"
      },
      "source": [
        "# Dimensionality Reduction"
      ]
    },
    {
      "cell_type": "code",
      "execution_count": 34,
      "id": "98d71e1c",
      "metadata": {
        "colab": {
          "base_uri": "https://localhost:8080/",
          "height": 487
        },
        "id": "98d71e1c",
        "outputId": "99b7a26c-0281-42fa-8ee0-41e143767456"
      },
      "outputs": [
        {
          "output_type": "display_data",
          "data": {
            "text/plain": [
              "<Figure size 700x500 with 1 Axes>"
            ],
            "image/png": "[encoded data removed]"
          },
          "metadata": {}
        }
      ],
      "source": [
        "feat_cols = ['CGPA','Internships'] + list(poly_df.columns)\n",
        "pca = PCA(n_components=3, random_state=42)\n",
        "pca_comp = pca.fit_transform(df[feat_cols])\n",
        "for i in range(3):\n",
        "    df[f'PCA_{i+1}'] = pca_comp[:,i]\n",
        "\n",
        "tsne = TSNE(n_components=2, random_state=42)\n",
        "tsne_proj = tsne.fit_transform(df[feat_cols])\n",
        "df['TSNE1'], df['TSNE2'] = tsne_proj[:,0], tsne_proj[:,1]\n",
        "\n",
        "plt.figure(figsize=(7,5))\n",
        "sns.scatterplot(x='TSNE1', y='TSNE2', hue='PlacedOrNot', data=df, palette='coolwarm')\n",
        "plt.title(\"t-SNE map colored by placement\")\n",
        "plt.show()"
      ]
    },
    {
      "cell_type": "markdown",
      "id": "ed04c239",
      "metadata": {
        "id": "ed04c239"
      },
      "source": [
        "## Encoding & Scaling"
      ]
    },
    {
      "cell_type": "markdown",
      "id": "0c04f944",
      "metadata": {
        "id": "0c04f944"
      },
      "source": [
        "# Data Preprocessing"
      ]
    },
    {
      "cell_type": "code",
      "execution_count": 35,
      "id": "dbc99b10",
      "metadata": {
        "id": "dbc99b10"
      },
      "outputs": [],
      "source": [
        "ohe = OneHotEncoder(sparse_output=False, drop='first')\n",
        "stream_enc = ohe.fit_transform(df[['Stream']])\n",
        "for col, name in zip(stream_enc.T, ohe.get_feature_names_out()):\n",
        "    df[name] = col\n",
        "df.drop('Stream', axis=1, inplace=True)\n",
        "\n",
        "for col in ['Gender','Hostel']:\n",
        "    df[col] = LabelEncoder().fit_transform(df[col])\n",
        "\n",
        "num_all = df.select_dtypes(include=[np.number]).columns.drop('PlacedOrNot')\n",
        "df[num_all] = StandardScaler().fit_transform(df[num_all])"
      ]
    },
    {
      "cell_type": "markdown",
      "id": "bf1602ed",
      "metadata": {
        "id": "bf1602ed"
      },
      "source": [
        "## Train-Test Split & SMOTE"
      ]
    },
    {
      "cell_type": "markdown",
      "id": "ef0206d7",
      "metadata": {
        "id": "ef0206d7"
      },
      "source": [
        "# Model Training"
      ]
    },
    {
      "cell_type": "code",
      "execution_count": 36,
      "id": "f9c071f6",
      "metadata": {
        "colab": {
          "base_uri": "https://localhost:8080/"
        },
        "id": "f9c071f6",
        "outputId": "a53cff3f-be91-42ae-e433-56b33c04c34c"
      },
      "outputs": [
        {
          "output_type": "stream",
          "name": "stdout",
          "text": [
            "Training classes after SMOTE: [1311 1311]\n"
          ]
        }
      ],
      "source": [
        "X = df.drop('PlacedOrNot', axis=1)\n",
        "y = df['PlacedOrNot']\n",
        "\n",
        "X_train, X_test, y_train, y_test = train_test_split(\n",
        "    X, y, test_size=0.2, stratify=y, random_state=42\n",
        ")\n",
        "\n",
        "smote = SMOTE(random_state=42)\n",
        "X_train_res, y_train_res = smote.fit_resample(X_train, y_train)\n",
        "print(\"Training classes after SMOTE:\", np.bincount(y_train_res))"
      ]
    },
    {
      "cell_type": "markdown",
      "id": "541e18a5",
      "metadata": {
        "id": "541e18a5"
      },
      "source": [
        "## Baseline Model Training"
      ]
    },
    {
      "cell_type": "code",
      "execution_count": 37,
      "id": "599d3227",
      "metadata": {
        "colab": {
          "base_uri": "https://localhost:8080/"
        },
        "id": "599d3227",
        "outputId": "a32147d5-0107-4034-b6a0-d1aa3b30a5d9"
      },
      "outputs": [
        {
          "output_type": "stream",
          "name": "stdout",
          "text": [
            "LogisticRegression is ready\n",
            "RandomForestClassifier is ready\n",
            "XGBClassifier is ready\n"
          ]
        }
      ],
      "source": [
        "lr = LogisticRegression(max_iter=1000, random_state=42)\n",
        "rf = RandomForestClassifier(n_estimators=200, random_state=42)\n",
        "xgb = XGBClassifier(use_label_encoder=False, eval_metric='logloss', random_state=42)\n",
        "\n",
        "X_train_res = X_train_res.to_numpy()  # Convert DataFrame to numpy array\n",
        "y_train_res = y_train_res.to_numpy()  # Convert Series to numpy array\n",
        "\n",
        "# Now train your models\n",
        "for model in [lr, rf, xgb]:\n",
        "    model.fit(X_train_res, y_train_res)\n",
        "    print(f\"{model.__class__.__name__} is ready\")"
      ]
    },
    {
      "cell_type": "markdown",
      "id": "f5b27067",
      "metadata": {
        "id": "f5b27067"
      },
      "source": [
        "## Hyperparameter Tuning"
      ]
    },
    {
      "cell_type": "code",
      "execution_count": 38,
      "id": "a00fdb39",
      "metadata": {
        "colab": {
          "base_uri": "https://localhost:8080/"
        },
        "id": "a00fdb39",
        "outputId": "d7370dca-98c9-40ff-8a0c-7a4adc67ef64"
      },
      "outputs": [
        {
          "output_type": "stream",
          "name": "stdout",
          "text": [
            "RF best: {'max_depth': 10, 'n_estimators': 100}\n",
            "LR best: {'C': 1}\n"
          ]
        }
      ],
      "source": [
        "rf_params = {'n_estimators': [100,200], 'max_depth': [5,10,None]}\n",
        "rf_gs = GridSearchCV(rf, rf_params, cv=5).fit(X_train_res, y_train_res)\n",
        "\n",
        "lr_params = {'C': [0.01,0.1,1,10]}\n",
        "lr_gs = GridSearchCV(lr, lr_params, cv=5).fit(X_train_res, y_train_res)\n",
        "\n",
        "print(\"RF best:\", rf_gs.best_params_)\n",
        "print(\"LR best:\", lr_gs.best_params_)"
      ]
    },
    {
      "cell_type": "markdown",
      "id": "04ba600e",
      "metadata": {
        "id": "04ba600e"
      },
      "source": [
        "## Quick AutoML"
      ]
    },
    {
      "cell_type": "code",
      "execution_count": 3,
      "id": "8b6cd782",
      "metadata": {
        "colab": {
          "base_uri": "https://localhost:8080/",
          "height": 219
        },
        "id": "8b6cd782",
        "outputId": "d85b41da-316b-421e-b6af-6387e03ea8ee"
      },
      "outputs": [
        {
          "output_type": "error",
          "ename": "NameError",
          "evalue": "name 'X_train' is not defined",
          "traceback": [
            "\u001b[0;31m---------------------------------------------------------------------------\u001b[0m",
            "\u001b[0;31mNameError\u001b[0m                                 Traceback (most recent call last)",
            "\u001b[0;32m<ipython-input-3-bcd7d660baba>\u001b[0m in \u001b[0;36m<cell line: 0>\u001b[0;34m()\u001b[0m\n\u001b[1;32m     12\u001b[0m \u001b[0;34m\u001b[0m\u001b[0m\n\u001b[1;32m     13\u001b[0m \u001b[0msm\u001b[0m \u001b[0;34m=\u001b[0m \u001b[0mSMOTE\u001b[0m\u001b[0;34m(\u001b[0m\u001b[0mrandom_state\u001b[0m\u001b[0;34m=\u001b[0m\u001b[0;36m42\u001b[0m\u001b[0;34m)\u001b[0m\u001b[0;34m\u001b[0m\u001b[0;34m\u001b[0m\u001b[0m\n\u001b[0;32m---> 14\u001b[0;31m \u001b[0mX_train_res\u001b[0m\u001b[0;34m,\u001b[0m \u001b[0my_train_res\u001b[0m \u001b[0;34m=\u001b[0m \u001b[0msm\u001b[0m\u001b[0;34m.\u001b[0m\u001b[0mfit_resample\u001b[0m\u001b[0;34m(\u001b[0m\u001b[0mX_train\u001b[0m\u001b[0;34m,\u001b[0m \u001b[0my_train\u001b[0m\u001b[0;34m)\u001b[0m\u001b[0;34m\u001b[0m\u001b[0;34m\u001b[0m\u001b[0m\n\u001b[0m\u001b[1;32m     15\u001b[0m \u001b[0mautoml\u001b[0m\u001b[0;34m.\u001b[0m\u001b[0mfit\u001b[0m\u001b[0;34m(\u001b[0m\u001b[0mX_train_res\u001b[0m\u001b[0;34m,\u001b[0m \u001b[0my_train_res\u001b[0m\u001b[0;34m,\u001b[0m \u001b[0;34m**\u001b[0m\u001b[0msettings\u001b[0m\u001b[0;34m)\u001b[0m\u001b[0;34m\u001b[0m\u001b[0;34m\u001b[0m\u001b[0m\n\u001b[1;32m     16\u001b[0m \u001b[0mprint\u001b[0m\u001b[0;34m(\u001b[0m\u001b[0;34m\"AutoML chose:\"\u001b[0m\u001b[0;34m,\u001b[0m \u001b[0mautoml\u001b[0m\u001b[0;34m.\u001b[0m\u001b[0mmodel\u001b[0m\u001b[0;34m)\u001b[0m\u001b[0;34m\u001b[0m\u001b[0;34m\u001b[0m\u001b[0m\n",
            "\u001b[0;31mNameError\u001b[0m: name 'X_train' is not defined"
          ]
        }
      ],
      "source": [
        "from flaml import AutoML\n",
        "\n",
        "automl = AutoML()\n",
        "settings = {\n",
        "    \"time_budget\": 60,\n",
        "    \"task\": \"classification\",\n",
        "    \"metric\": \"roc_auc\",\n",
        "    \"estimator_list\": [\"lgbm\",\"xgboost\",\"rf\"],\n",
        "}\n",
        "\n",
        "from imblearn.over_sampling import SMOTE\n",
        "\n",
        "sm = SMOTE(random_state=42)\n",
        "X_train_res, y_train_res = sm.fit_resample(X_train, y_train)\n",
        "automl.fit(X_train_res, y_train_res, **settings)\n",
        "print(\"AutoML chose:\", automl.model)"
      ]
    },
    {
      "cell_type": "markdown",
      "id": "86a7d580",
      "metadata": {
        "id": "86a7d580"
      },
      "source": [
        "# Model Comparison"
      ]
    },
    {
      "cell_type": "code",
      "execution_count": 40,
      "id": "81e3f3af",
      "metadata": {
        "colab": {
          "base_uri": "https://localhost:8080/",
          "height": 219
        },
        "id": "81e3f3af",
        "outputId": "7fc06199-2e49-48db-c00e-e154f71b8696"
      },
      "outputs": [
        {
          "output_type": "error",
          "ename": "NameError",
          "evalue": "name 'automl' is not defined",
          "traceback": [
            "\u001b[0;31m---------------------------------------------------------------------------\u001b[0m",
            "\u001b[0;31mNameError\u001b[0m                                 Traceback (most recent call last)",
            "\u001b[0;32m<ipython-input-40-fc9dd0aadad2>\u001b[0m in \u001b[0;36m<cell line: 0>\u001b[0;34m()\u001b[0m\n\u001b[1;32m      9\u001b[0m     \u001b[0;34m'RF_GS'\u001b[0m\u001b[0;34m:\u001b[0m \u001b[0mrf_gs\u001b[0m\u001b[0;34m.\u001b[0m\u001b[0mbest_estimator_\u001b[0m\u001b[0;34m,\u001b[0m\u001b[0;34m\u001b[0m\u001b[0;34m\u001b[0m\u001b[0m\n\u001b[1;32m     10\u001b[0m     \u001b[0;34m'XGBoost'\u001b[0m\u001b[0;34m:\u001b[0m \u001b[0mxgb\u001b[0m\u001b[0;34m,\u001b[0m\u001b[0;34m\u001b[0m\u001b[0;34m\u001b[0m\u001b[0m\n\u001b[0;32m---> 11\u001b[0;31m     \u001b[0;34m'AutoML'\u001b[0m\u001b[0;34m:\u001b[0m \u001b[0mautoml\u001b[0m\u001b[0;34m.\u001b[0m\u001b[0mmodel\u001b[0m\u001b[0;34m\u001b[0m\u001b[0;34m\u001b[0m\u001b[0m\n\u001b[0m\u001b[1;32m     12\u001b[0m }\n\u001b[1;32m     13\u001b[0m \u001b[0;34m\u001b[0m\u001b[0m\n",
            "\u001b[0;31mNameError\u001b[0m: name 'automl' is not defined"
          ]
        }
      ],
      "source": [
        "from sklearn.metrics import classification_report, roc_auc_score, RocCurveDisplay\n",
        "import numpy as np\n",
        "\n",
        "# Convert X_test to numpy array\n",
        "X_test = X_test.to_numpy()\n",
        "\n",
        "models = {\n",
        "    'LR_GS': lr_gs.best_estimator_,\n",
        "    'RF_GS': rf_gs.best_estimator_,\n",
        "    'XGBoost': xgb,\n",
        "    'AutoML': automl.model\n",
        "}\n",
        "\n",
        "rows = []\n",
        "for name, m in models.items():\n",
        "    # Ensure m.predict_proba uses the numpy array\n",
        "    proba = m.predict_proba(X_test)[:, 1]\n",
        "    preds = m.predict(X_test)\n",
        "    auc = roc_auc_score(y_test, proba)\n",
        "    rep = classification_report(y_test, preds, output_dict=True)['1']\n",
        "    rows.append({\n",
        "        'Model': name,\n",
        "        'ROC AUC': auc,\n",
        "        'Precision': rep['precision'],\n",
        "        'Recall': rep['recall'],\n",
        "        'F1': rep['f1-score']\n",
        "    })\n",
        "\n",
        "results_df = pd.DataFrame(rows).set_index('Model')\n",
        "display(results_df)\n",
        "\n",
        "# Get the best model based on ROC AUC\n",
        "best_name = results_df['ROC AUC'].idxmax()\n",
        "best_model = models[best_name]\n",
        "\n",
        "# Plot the ROC curve for the best model\n",
        "RocCurveDisplay.from_estimator(best_model, X_test, y_test)\n",
        "plt.title(f\"ROC for {best_name}\")\n",
        "plt.show()"
      ]
    },
    {
      "cell_type": "markdown",
      "id": "f7882ed1",
      "metadata": {
        "id": "f7882ed1"
      },
      "source": [
        "# Model Explainability"
      ]
    },
    {
      "cell_type": "code",
      "execution_count": 41,
      "id": "c9db43ba",
      "metadata": {
        "colab": {
          "base_uri": "https://localhost:8080/",
          "height": 219
        },
        "id": "c9db43ba",
        "outputId": "3aa3539c-7f93-4d46-ccd9-c78a2aed4d49"
      },
      "outputs": [
        {
          "output_type": "error",
          "ename": "NameError",
          "evalue": "name 'best_model' is not defined",
          "traceback": [
            "\u001b[0;31m---------------------------------------------------------------------------\u001b[0m",
            "\u001b[0;31mNameError\u001b[0m                                 Traceback (most recent call last)",
            "\u001b[0;32m<ipython-input-41-b20f88b65c0b>\u001b[0m in \u001b[0;36m<cell line: 0>\u001b[0;34m()\u001b[0m\n\u001b[0;32m----> 1\u001b[0;31m \u001b[0mexplainer\u001b[0m \u001b[0;34m=\u001b[0m \u001b[0mshap\u001b[0m\u001b[0;34m.\u001b[0m\u001b[0mExplainer\u001b[0m\u001b[0;34m(\u001b[0m\u001b[0mbest_model\u001b[0m\u001b[0;34m,\u001b[0m \u001b[0mX_train_res\u001b[0m\u001b[0;34m)\u001b[0m\u001b[0;34m\u001b[0m\u001b[0;34m\u001b[0m\u001b[0m\n\u001b[0m\u001b[1;32m      2\u001b[0m \u001b[0mshap_vals\u001b[0m \u001b[0;34m=\u001b[0m \u001b[0mexplainer\u001b[0m\u001b[0;34m(\u001b[0m\u001b[0mX_test\u001b[0m\u001b[0;34m)\u001b[0m\u001b[0;34m\u001b[0m\u001b[0;34m\u001b[0m\u001b[0m\n\u001b[1;32m      3\u001b[0m \u001b[0mshap\u001b[0m\u001b[0;34m.\u001b[0m\u001b[0msummary_plot\u001b[0m\u001b[0;34m(\u001b[0m\u001b[0mshap_vals\u001b[0m\u001b[0;34m,\u001b[0m \u001b[0mX_test\u001b[0m\u001b[0;34m)\u001b[0m\u001b[0;34m\u001b[0m\u001b[0;34m\u001b[0m\u001b[0m\n\u001b[1;32m      4\u001b[0m \u001b[0;34m\u001b[0m\u001b[0m\n\u001b[1;32m      5\u001b[0m lime_exp = LimeTabularExplainer(\n",
            "\u001b[0;31mNameError\u001b[0m: name 'best_model' is not defined"
          ]
        }
      ],
      "source": [
        "explainer = shap.Explainer(best_model, X_train_res)\n",
        "shap_vals = explainer(X_test)\n",
        "shap.summary_plot(shap_vals, X_test)\n",
        "\n",
        "lime_exp = LimeTabularExplainer(\n",
        "    X_train_res,  # Use X_train_res directly, as it's already a numpy array\n",
        "    feature_names=X_train_res.columns if isinstance(X_train_res, pd.DataFrame) else None,\n",
        "    class_names=['Not Placed', 'Placed']\n",
        ")"
      ]
    },
    {
      "cell_type": "code",
      "source": [
        "inst_exp = lime_exp.explain_instance(X_test[0], best_model.predict_proba, num_features=6)\n",
        "inst_exp.show_in_notebook()"
      ],
      "metadata": {
        "id": "iz2R4WMiX_k3",
        "colab": {
          "base_uri": "https://localhost:8080/",
          "height": 164
        },
        "outputId": "14d38466-664d-4506-b3ff-de16230fcea2"
      },
      "id": "iz2R4WMiX_k3",
      "execution_count": 42,
      "outputs": [
        {
          "output_type": "error",
          "ename": "NameError",
          "evalue": "name 'lime_exp' is not defined",
          "traceback": [
            "\u001b[0;31m---------------------------------------------------------------------------\u001b[0m",
            "\u001b[0;31mNameError\u001b[0m                                 Traceback (most recent call last)",
            "\u001b[0;32m<ipython-input-42-f3f096d8b8ec>\u001b[0m in \u001b[0;36m<cell line: 0>\u001b[0;34m()\u001b[0m\n\u001b[0;32m----> 1\u001b[0;31m \u001b[0minst_exp\u001b[0m \u001b[0;34m=\u001b[0m \u001b[0mlime_exp\u001b[0m\u001b[0;34m.\u001b[0m\u001b[0mexplain_instance\u001b[0m\u001b[0;34m(\u001b[0m\u001b[0mX_test\u001b[0m\u001b[0;34m[\u001b[0m\u001b[0;36m0\u001b[0m\u001b[0;34m]\u001b[0m\u001b[0;34m,\u001b[0m \u001b[0mbest_model\u001b[0m\u001b[0;34m.\u001b[0m\u001b[0mpredict_proba\u001b[0m\u001b[0;34m,\u001b[0m \u001b[0mnum_features\u001b[0m\u001b[0;34m=\u001b[0m\u001b[0;36m6\u001b[0m\u001b[0;34m)\u001b[0m\u001b[0;34m\u001b[0m\u001b[0;34m\u001b[0m\u001b[0m\n\u001b[0m\u001b[1;32m      2\u001b[0m \u001b[0minst_exp\u001b[0m\u001b[0;34m.\u001b[0m\u001b[0mshow_in_notebook\u001b[0m\u001b[0;34m(\u001b[0m\u001b[0;34m)\u001b[0m\u001b[0;34m\u001b[0m\u001b[0;34m\u001b[0m\u001b[0m\n",
            "\u001b[0;31mNameError\u001b[0m: name 'lime_exp' is not defined"
          ]
        }
      ]
    },
    {
      "cell_type": "markdown",
      "id": "37927f82",
      "metadata": {
        "id": "37927f82"
      },
      "source": [
        "# Prescriptive Recommendations"
      ]
    },
    {
      "cell_type": "code",
      "execution_count": 43,
      "id": "6a9a5340",
      "metadata": {
        "colab": {
          "base_uri": "https://localhost:8080/"
        },
        "id": "6a9a5340",
        "outputId": "364a8004-af5d-4c63-b821-42cc9671c9f3"
      },
      "outputs": [
        {
          "output_type": "stream",
          "name": "stdout",
          "text": [
            "Columns in DataFrame: Index(['Age', 'Gender', 'Internships', 'CGPA', 'Hostel', 'HistoryOfBacklogs',\n",
            "       'PlacedOrNot', 'HasBacklog', 'CGPA', 'Internships', 'CGPA^2',\n",
            "       'CGPA Internships', 'Internships^2', 'Cluster', 'PCA_1', 'PCA_2',\n",
            "       'PCA_3', 'TSNE1', 'TSNE2', 'Stream_Computer Science',\n",
            "       'Stream_Electrical', 'Stream_Electronics And Communication',\n",
            "       'Stream_Information Technology', 'Stream_Mechanical'],\n",
            "      dtype='object')\n",
            "Number of students at risk: 0\n",
            "No students match the filter condition. Please check the threshold or filter conditions.\n"
          ]
        }
      ],
      "source": [
        "# Check column names in the DataFrame to ensure they exist\n",
        "print(\"Columns in DataFrame:\", df.columns)\n",
        "\n",
        "# Remove duplicate columns if any\n",
        "df = df.loc[:, ~df.columns.duplicated()]\n",
        "\n",
        "# Define the threshold for 'CGPA' and filter 'at_risk' students\n",
        "threshold = df['CGPA'].quantile(0.25)\n",
        "\n",
        "# Check if there are students with the specified condition\n",
        "at_risk = df[(df['CGPA'] < threshold) & (df['Internships'] == 0)]\n",
        "print(f\"Number of students at risk: {len(at_risk)}\")\n",
        "\n",
        "# If no students are at risk, we can debug further\n",
        "if len(at_risk) == 0:\n",
        "    print(\"No students match the filter condition. Please check the threshold or filter conditions.\")\n",
        "else:\n",
        "    # Define the suggest function to provide recommendations\n",
        "    def suggest(row):\n",
        "        recs = []\n",
        "        if row['CGPA'] < threshold:\n",
        "            recs.append(\"join extra tutoring\")\n",
        "        if row['Internships'] == 0:\n",
        "            recs.append(\"apply for internships\")\n",
        "        if row['HasBacklog']:\n",
        "            recs.append(\"clear backlogs quickly\")\n",
        "        return recs\n",
        "\n",
        "    # Apply the suggest function to the 'at_risk' DataFrame\n",
        "    at_risk['Suggestions'] = at_risk.apply(suggest, axis=1)\n",
        "\n",
        "    # Display the first 10 rows to verify the suggestions column\n",
        "    print(at_risk[['Age', 'Gender', 'CGPA', 'Internships', 'Suggestions']].head(10))\n",
        "    display(at_risk[['Age', 'Gender', 'CGPA', 'Internships', 'Suggestions']].head(10))"
      ]
    },
    {
      "cell_type": "markdown",
      "id": "ca31111f",
      "metadata": {
        "id": "ca31111f"
      },
      "source": [
        "# Save & Version Models"
      ]
    },
    {
      "cell_type": "code",
      "execution_count": 44,
      "id": "484dd955",
      "metadata": {
        "colab": {
          "base_uri": "https://localhost:8080/",
          "height": 219
        },
        "id": "484dd955",
        "outputId": "9466ae0f-c46d-4776-f794-eee668aad578"
      },
      "outputs": [
        {
          "output_type": "error",
          "ename": "NameError",
          "evalue": "name 'best_model' is not defined",
          "traceback": [
            "\u001b[0;31m---------------------------------------------------------------------------\u001b[0m",
            "\u001b[0;31mNameError\u001b[0m                                 Traceback (most recent call last)",
            "\u001b[0;32m<ipython-input-44-b659a13d86ba>\u001b[0m in \u001b[0;36m<cell line: 0>\u001b[0;34m()\u001b[0m\n\u001b[1;32m      1\u001b[0m \u001b[0;31m# save the best model\u001b[0m\u001b[0;34m\u001b[0m\u001b[0;34m\u001b[0m\u001b[0m\n\u001b[1;32m      2\u001b[0m \u001b[0;32mimport\u001b[0m \u001b[0mjoblib\u001b[0m\u001b[0;34m\u001b[0m\u001b[0;34m\u001b[0m\u001b[0m\n\u001b[0;32m----> 3\u001b[0;31m \u001b[0mjoblib\u001b[0m\u001b[0;34m.\u001b[0m\u001b[0mdump\u001b[0m\u001b[0;34m(\u001b[0m\u001b[0mbest_model\u001b[0m\u001b[0;34m,\u001b[0m \u001b[0;34m'best_model.pkl'\u001b[0m\u001b[0;34m)\u001b[0m\u001b[0;34m\u001b[0m\u001b[0;34m\u001b[0m\u001b[0m\n\u001b[0m\u001b[1;32m      4\u001b[0m \u001b[0;34m\u001b[0m\u001b[0m\n\u001b[1;32m      5\u001b[0m \u001b[0;31m# initialize and add to DVC\u001b[0m\u001b[0;34m\u001b[0m\u001b[0;34m\u001b[0m\u001b[0m\n",
            "\u001b[0;31mNameError\u001b[0m: name 'best_model' is not defined"
          ]
        }
      ],
      "source": [
        "# save the best model\n",
        "import joblib\n",
        "joblib.dump(best_model, 'best_model.pkl')\n",
        "\n",
        "# initialize and add to DVC\n",
        "!dvc init -q\n",
        "!dvc add /content/drive/MyDrive/collegePlacement.csv best_model.pkl"
      ]
    },
    {
      "cell_type": "markdown",
      "id": "c5fa287c",
      "metadata": {
        "id": "c5fa287c"
      },
      "source": [
        "# Monitoring & Fairness Audit"
      ]
    },
    {
      "cell_type": "markdown",
      "id": "9e74e61b",
      "metadata": {
        "id": "9e74e61b"
      },
      "source": [
        "## Monitoring with Evidently"
      ]
    },
    {
      "cell_type": "code",
      "execution_count": 45,
      "id": "cd44cef0",
      "metadata": {
        "colab": {
          "base_uri": "https://localhost:8080/",
          "height": 1000
        },
        "id": "cd44cef0",
        "outputId": "0ca30f80-c0c2-4c3c-a374-ee2a32fb7320"
      },
      "outputs": [
        {
          "output_type": "stream",
          "name": "stdout",
          "text": [
            "Both 'PlacedOrNot' and 'Gender' columns exist.\n",
            "Reference Data Columns: Index(['Age', 'Gender', 'Internships', 'CGPA', 'Hostel', 'HistoryOfBacklogs',\n",
            "       'PlacedOrNot', 'HasBacklog', 'CGPA^2', 'CGPA Internships',\n",
            "       'Internships^2', 'Cluster', 'PCA_1', 'PCA_2', 'PCA_3', 'TSNE1', 'TSNE2',\n",
            "       'Stream_Computer Science', 'Stream_Electrical',\n",
            "       'Stream_Electronics And Communication', 'Stream_Information Technology',\n",
            "       'Stream_Mechanical'],\n",
            "      dtype='object')\n",
            "Current Data Columns: Index(['Age', 'Gender', 'Internships', 'CGPA', 'Hostel', 'HistoryOfBacklogs',\n",
            "       'PlacedOrNot', 'HasBacklog', 'CGPA^2', 'CGPA Internships',\n",
            "       'Internships^2', 'Cluster', 'PCA_1', 'PCA_2', 'PCA_3', 'TSNE1', 'TSNE2',\n",
            "       'Stream_Computer Science', 'Stream_Electrical',\n",
            "       'Stream_Electronics And Communication', 'Stream_Information Technology',\n",
            "       'Stream_Mechanical'],\n",
            "      dtype='object')\n",
            "Missing values in reference data:\n",
            " Age                                     0\n",
            "Gender                                  0\n",
            "Internships                             0\n",
            "CGPA                                    0\n",
            "Hostel                                  0\n",
            "HistoryOfBacklogs                       0\n",
            "PlacedOrNot                             0\n",
            "HasBacklog                              0\n",
            "CGPA^2                                  0\n",
            "CGPA Internships                        0\n",
            "Internships^2                           0\n",
            "Cluster                                 0\n",
            "PCA_1                                   0\n",
            "PCA_2                                   0\n",
            "PCA_3                                   0\n",
            "TSNE1                                   0\n",
            "TSNE2                                   0\n",
            "Stream_Computer Science                 0\n",
            "Stream_Electrical                       0\n",
            "Stream_Electronics And Communication    0\n",
            "Stream_Information Technology           0\n",
            "Stream_Mechanical                       0\n",
            "dtype: int64\n",
            "Missing values in current data:\n",
            " Age                                     0\n",
            "Gender                                  0\n",
            "Internships                             0\n",
            "CGPA                                    0\n",
            "Hostel                                  0\n",
            "HistoryOfBacklogs                       0\n",
            "PlacedOrNot                             0\n",
            "HasBacklog                              0\n",
            "CGPA^2                                  0\n",
            "CGPA Internships                        0\n",
            "Internships^2                           0\n",
            "Cluster                                 0\n",
            "PCA_1                                   0\n",
            "PCA_2                                   0\n",
            "PCA_3                                   0\n",
            "TSNE1                                   0\n",
            "TSNE2                                   0\n",
            "Stream_Computer Science                 0\n",
            "Stream_Electrical                       0\n",
            "Stream_Electronics And Communication    0\n",
            "Stream_Information Technology           0\n",
            "Stream_Mechanical                       0\n",
            "dtype: int64\n"
          ]
        },
        {
          "output_type": "error",
          "ename": "AttributeError",
          "evalue": "`np.float_` was removed in the NumPy 2.0 release. Use `np.float64` instead.",
          "traceback": [
            "\u001b[0;31m---------------------------------------------------------------------------\u001b[0m",
            "\u001b[0;31mAttributeError\u001b[0m                            Traceback (most recent call last)",
            "\u001b[0;32m<ipython-input-45-14d13a02d4df>\u001b[0m in \u001b[0;36m<cell line: 0>\u001b[0;34m()\u001b[0m\n\u001b[1;32m     30\u001b[0m \u001b[0;34m\u001b[0m\u001b[0m\n\u001b[1;32m     31\u001b[0m \u001b[0;31m# Now initialize the Evidently report\u001b[0m\u001b[0;34m\u001b[0m\u001b[0;34m\u001b[0m\u001b[0m\n\u001b[0;32m---> 32\u001b[0;31m \u001b[0;32mfrom\u001b[0m \u001b[0mevidently\u001b[0m\u001b[0;34m.\u001b[0m\u001b[0mreport\u001b[0m \u001b[0;32mimport\u001b[0m \u001b[0mReport\u001b[0m\u001b[0;34m\u001b[0m\u001b[0;34m\u001b[0m\u001b[0m\n\u001b[0m\u001b[1;32m     33\u001b[0m \u001b[0;32mfrom\u001b[0m \u001b[0mevidently\u001b[0m\u001b[0;34m.\u001b[0m\u001b[0mmetric_preset\u001b[0m \u001b[0;32mimport\u001b[0m \u001b[0mDataDriftPreset\u001b[0m\u001b[0;34m,\u001b[0m \u001b[0mClassificationPreset\u001b[0m\u001b[0;34m\u001b[0m\u001b[0;34m\u001b[0m\u001b[0m\n\u001b[1;32m     34\u001b[0m \u001b[0;34m\u001b[0m\u001b[0m\n",
            "\u001b[0;32m/usr/local/lib/python3.11/dist-packages/evidently/report/__init__.py\u001b[0m in \u001b[0;36m<module>\u001b[0;34m\u001b[0m\n\u001b[0;32m----> 1\u001b[0;31m \u001b[0;32mfrom\u001b[0m \u001b[0;34m.\u001b[0m\u001b[0mreport\u001b[0m \u001b[0;32mimport\u001b[0m \u001b[0mReport\u001b[0m\u001b[0;34m\u001b[0m\u001b[0;34m\u001b[0m\u001b[0m\n\u001b[0m",
            "\u001b[0;32m/usr/local/lib/python3.11/dist-packages/evidently/report/report.py\u001b[0m in \u001b[0;36m<module>\u001b[0;34m\u001b[0m\n\u001b[1;32m     10\u001b[0m \u001b[0;34m\u001b[0m\u001b[0m\n\u001b[1;32m     11\u001b[0m \u001b[0;32mfrom\u001b[0m \u001b[0mevidently\u001b[0m \u001b[0;32mimport\u001b[0m \u001b[0mColumnMapping\u001b[0m\u001b[0;34m\u001b[0m\u001b[0;34m\u001b[0m\u001b[0m\n\u001b[0;32m---> 12\u001b[0;31m \u001b[0;32mfrom\u001b[0m \u001b[0mevidently\u001b[0m\u001b[0;34m.\u001b[0m\u001b[0mbase_metric\u001b[0m \u001b[0;32mimport\u001b[0m \u001b[0mInputData\u001b[0m\u001b[0;34m\u001b[0m\u001b[0;34m\u001b[0m\u001b[0m\n\u001b[0m\u001b[1;32m     13\u001b[0m \u001b[0;32mfrom\u001b[0m \u001b[0mevidently\u001b[0m\u001b[0;34m.\u001b[0m\u001b[0mbase_metric\u001b[0m \u001b[0;32mimport\u001b[0m \u001b[0mMetric\u001b[0m\u001b[0;34m\u001b[0m\u001b[0;34m\u001b[0m\u001b[0m\n\u001b[1;32m     14\u001b[0m \u001b[0;32mfrom\u001b[0m \u001b[0mevidently\u001b[0m\u001b[0;34m.\u001b[0m\u001b[0mcore\u001b[0m \u001b[0;32mimport\u001b[0m \u001b[0mIncludeOptions\u001b[0m\u001b[0;34m\u001b[0m\u001b[0;34m\u001b[0m\u001b[0m\n",
            "\u001b[0;32m/usr/local/lib/python3.11/dist-packages/evidently/base_metric.py\u001b[0m in \u001b[0;36m<module>\u001b[0;34m\u001b[0m\n\u001b[1;32m     15\u001b[0m \u001b[0;32mfrom\u001b[0m \u001b[0mevidently\u001b[0m\u001b[0;34m.\u001b[0m\u001b[0mcore\u001b[0m \u001b[0;32mimport\u001b[0m \u001b[0mBaseResult\u001b[0m\u001b[0;34m\u001b[0m\u001b[0;34m\u001b[0m\u001b[0m\n\u001b[1;32m     16\u001b[0m \u001b[0;32mfrom\u001b[0m \u001b[0mevidently\u001b[0m\u001b[0;34m.\u001b[0m\u001b[0mcore\u001b[0m \u001b[0;32mimport\u001b[0m \u001b[0mColumnType\u001b[0m\u001b[0;34m\u001b[0m\u001b[0;34m\u001b[0m\u001b[0m\n\u001b[0;32m---> 17\u001b[0;31m \u001b[0;32mfrom\u001b[0m \u001b[0mevidently\u001b[0m\u001b[0;34m.\u001b[0m\u001b[0mfeatures\u001b[0m\u001b[0;34m.\u001b[0m\u001b[0mgenerated_features\u001b[0m \u001b[0;32mimport\u001b[0m \u001b[0mGeneratedFeature\u001b[0m\u001b[0;34m\u001b[0m\u001b[0;34m\u001b[0m\u001b[0m\n\u001b[0m\u001b[1;32m     18\u001b[0m \u001b[0;32mfrom\u001b[0m \u001b[0mevidently\u001b[0m\u001b[0;34m.\u001b[0m\u001b[0moptions\u001b[0m\u001b[0;34m.\u001b[0m\u001b[0mbase\u001b[0m \u001b[0;32mimport\u001b[0m \u001b[0mAnyOptions\u001b[0m\u001b[0;34m\u001b[0m\u001b[0;34m\u001b[0m\u001b[0m\n\u001b[1;32m     19\u001b[0m \u001b[0;32mfrom\u001b[0m \u001b[0mevidently\u001b[0m\u001b[0;34m.\u001b[0m\u001b[0moptions\u001b[0m\u001b[0;34m.\u001b[0m\u001b[0mbase\u001b[0m \u001b[0;32mimport\u001b[0m \u001b[0mOptions\u001b[0m\u001b[0;34m\u001b[0m\u001b[0;34m\u001b[0m\u001b[0m\n",
            "\u001b[0;32m/usr/local/lib/python3.11/dist-packages/evidently/features/generated_features.py\u001b[0m in \u001b[0;36m<module>\u001b[0;34m\u001b[0m\n\u001b[1;32m      6\u001b[0m \u001b[0;32mimport\u001b[0m \u001b[0mpandas\u001b[0m \u001b[0;32mas\u001b[0m \u001b[0mpd\u001b[0m\u001b[0;34m\u001b[0m\u001b[0;34m\u001b[0m\u001b[0m\n\u001b[1;32m      7\u001b[0m \u001b[0;34m\u001b[0m\u001b[0m\n\u001b[0;32m----> 8\u001b[0;31m \u001b[0;32mfrom\u001b[0m \u001b[0mevidently\u001b[0m\u001b[0;34m.\u001b[0m\u001b[0mutils\u001b[0m\u001b[0;34m.\u001b[0m\u001b[0mdata_preprocessing\u001b[0m \u001b[0;32mimport\u001b[0m \u001b[0mDataDefinition\u001b[0m\u001b[0;34m\u001b[0m\u001b[0;34m\u001b[0m\u001b[0m\n\u001b[0m\u001b[1;32m      9\u001b[0m \u001b[0;34m\u001b[0m\u001b[0m\n\u001b[1;32m     10\u001b[0m \u001b[0;32mif\u001b[0m \u001b[0mtyping\u001b[0m\u001b[0;34m.\u001b[0m\u001b[0mTYPE_CHECKING\u001b[0m\u001b[0;34m:\u001b[0m\u001b[0;34m\u001b[0m\u001b[0;34m\u001b[0m\u001b[0m\n",
            "\u001b[0;32m/usr/local/lib/python3.11/dist-packages/evidently/utils/__init__.py\u001b[0m in \u001b[0;36m<module>\u001b[0;34m\u001b[0m\n\u001b[0;32m----> 1\u001b[0;31m \u001b[0;32mfrom\u001b[0m \u001b[0;34m.\u001b[0m\u001b[0mnumpy_encoder\u001b[0m \u001b[0;32mimport\u001b[0m \u001b[0mNumpyEncoder\u001b[0m\u001b[0;34m\u001b[0m\u001b[0;34m\u001b[0m\u001b[0m\n\u001b[0m",
            "\u001b[0;32m/usr/local/lib/python3.11/dist-packages/evidently/utils/numpy_encoder.py\u001b[0m in \u001b[0;36m<module>\u001b[0;34m\u001b[0m\n\u001b[1;32m     13\u001b[0m         \u001b[0mint\u001b[0m\u001b[0;34m,\u001b[0m\u001b[0;34m\u001b[0m\u001b[0;34m\u001b[0m\u001b[0m\n\u001b[1;32m     14\u001b[0m     ),\n\u001b[0;32m---> 15\u001b[0;31m     \u001b[0;34m(\u001b[0m\u001b[0;34m(\u001b[0m\u001b[0mnp\u001b[0m\u001b[0;34m.\u001b[0m\u001b[0mfloat_\u001b[0m\u001b[0;34m,\u001b[0m \u001b[0mnp\u001b[0m\u001b[0;34m.\u001b[0m\u001b[0mfloat16\u001b[0m\u001b[0;34m,\u001b[0m \u001b[0mnp\u001b[0m\u001b[0;34m.\u001b[0m\u001b[0mfloat32\u001b[0m\u001b[0;34m,\u001b[0m \u001b[0mnp\u001b[0m\u001b[0;34m.\u001b[0m\u001b[0mfloat64\u001b[0m\u001b[0;34m)\u001b[0m\u001b[0;34m,\u001b[0m \u001b[0mfloat\u001b[0m\u001b[0;34m)\u001b[0m\u001b[0;34m,\u001b[0m\u001b[0;34m\u001b[0m\u001b[0;34m\u001b[0m\u001b[0m\n\u001b[0m\u001b[1;32m     16\u001b[0m     \u001b[0;34m(\u001b[0m\u001b[0;34m(\u001b[0m\u001b[0mnp\u001b[0m\u001b[0;34m.\u001b[0m\u001b[0mndarray\u001b[0m\u001b[0;34m,\u001b[0m\u001b[0;34m)\u001b[0m\u001b[0;34m,\u001b[0m \u001b[0;32mlambda\u001b[0m \u001b[0mobj\u001b[0m\u001b[0;34m:\u001b[0m \u001b[0mobj\u001b[0m\u001b[0;34m.\u001b[0m\u001b[0mtolist\u001b[0m\u001b[0;34m(\u001b[0m\u001b[0;34m)\u001b[0m\u001b[0;34m)\u001b[0m\u001b[0;34m,\u001b[0m\u001b[0;34m\u001b[0m\u001b[0;34m\u001b[0m\u001b[0m\n\u001b[1;32m     17\u001b[0m     \u001b[0;34m(\u001b[0m\u001b[0;34m(\u001b[0m\u001b[0mnp\u001b[0m\u001b[0;34m.\u001b[0m\u001b[0mbool_\u001b[0m\u001b[0;34m)\u001b[0m\u001b[0;34m,\u001b[0m \u001b[0mbool\u001b[0m\u001b[0;34m)\u001b[0m\u001b[0;34m,\u001b[0m\u001b[0;34m\u001b[0m\u001b[0;34m\u001b[0m\u001b[0m\n",
            "\u001b[0;32m/usr/local/lib/python3.11/dist-packages/numpy/__init__.py\u001b[0m in \u001b[0;36m__getattr__\u001b[0;34m(attr)\u001b[0m\n\u001b[1;32m    395\u001b[0m     \u001b[0;32mimport\u001b[0m \u001b[0mos\u001b[0m\u001b[0;34m\u001b[0m\u001b[0;34m\u001b[0m\u001b[0m\n\u001b[1;32m    396\u001b[0m     \u001b[0muse_hugepage\u001b[0m \u001b[0;34m=\u001b[0m \u001b[0mos\u001b[0m\u001b[0;34m.\u001b[0m\u001b[0menviron\u001b[0m\u001b[0;34m.\u001b[0m\u001b[0mget\u001b[0m\u001b[0;34m(\u001b[0m\u001b[0;34m\"NUMPY_MADVISE_HUGEPAGE\"\u001b[0m\u001b[0;34m,\u001b[0m \u001b[0;32mNone\u001b[0m\u001b[0;34m)\u001b[0m\u001b[0;34m\u001b[0m\u001b[0;34m\u001b[0m\u001b[0m\n\u001b[0;32m--> 397\u001b[0;31m     \u001b[0;32mif\u001b[0m \u001b[0msys\u001b[0m\u001b[0;34m.\u001b[0m\u001b[0mplatform\u001b[0m \u001b[0;34m==\u001b[0m \u001b[0;34m\"linux\"\u001b[0m \u001b[0;32mand\u001b[0m \u001b[0muse_hugepage\u001b[0m \u001b[0;32mis\u001b[0m \u001b[0;32mNone\u001b[0m\u001b[0;34m:\u001b[0m\u001b[0;34m\u001b[0m\u001b[0;34m\u001b[0m\u001b[0m\n\u001b[0m\u001b[1;32m    398\u001b[0m         \u001b[0;31m# If there is an issue with parsing the kernel version,\u001b[0m\u001b[0;34m\u001b[0m\u001b[0;34m\u001b[0m\u001b[0m\n\u001b[1;32m    399\u001b[0m         \u001b[0;31m# set use_hugepages to 0. Usage of LooseVersion will handle\u001b[0m\u001b[0;34m\u001b[0m\u001b[0;34m\u001b[0m\u001b[0m\n",
            "\u001b[0;31mAttributeError\u001b[0m: `np.float_` was removed in the NumPy 2.0 release. Use `np.float64` instead."
          ]
        }
      ],
      "source": [
        "# Ensure there are no missing values in the target columns\n",
        "df = df.dropna(subset=['PlacedOrNot', 'Gender'])\n",
        "\n",
        "# Check if the target columns exist\n",
        "if 'PlacedOrNot' in df.columns and 'Gender' in df.columns:\n",
        "    print(\"Both 'PlacedOrNot' and 'Gender' columns exist.\")\n",
        "else:\n",
        "    print(\"One or both of 'PlacedOrNot' or 'Gender' columns are missing.\")\n",
        "\n",
        "# Create the reference and current data splits\n",
        "reference = df.sample(frac=0.7, random_state=42)\n",
        "current = df.drop(reference.index).sample(frac=1.0, random_state=1)\n",
        "\n",
        "# Check if reference and current data have the necessary columns\n",
        "print(\"Reference Data Columns:\", reference.columns)\n",
        "print(\"Current Data Columns:\", current.columns)\n",
        "\n",
        "# Make sure both datasets are pandas DataFrames and reset the index\n",
        "reference = reference.reset_index(drop=True)\n",
        "current = current.reset_index(drop=True)\n",
        "\n",
        "# Check for missing values in both datasets\n",
        "print(\"Missing values in reference data:\\n\", reference.isnull().sum())\n",
        "print(\"Missing values in current data:\\n\", current.isnull().sum())\n",
        "\n",
        "# Handle missing values if necessary (you can drop rows or fill them)\n",
        "# For example:\n",
        "# reference = reference.dropna(subset=['PlacedOrNot', 'Gender'])\n",
        "# current = current.dropna(subset=['PlacedOrNot', 'Gender'])\n",
        "\n",
        "# Now initialize the Evidently report\n",
        "from evidently.report import Report\n",
        "from evidently.metric_preset import DataDriftPreset, ClassificationPreset\n",
        "\n",
        "report = Report(metrics=[DataDriftPreset(), ClassificationPreset()])\n",
        "\n",
        "# Run the report and display it\n",
        "try:\n",
        "    report.run(reference_data=reference, current_data=current)\n",
        "    report.show()\n",
        "except Exception as e:\n",
        "    print(f\"Error occurred while generating the report: {e}\")\n",
        "\n",
        "# Check for fairness metrics only if 'PlacedOrNot' and 'Gender' exist in the reference data\n",
        "from aif360.sklearn.metrics import statistical_parity_difference, disparate_impact_ratio\n",
        "\n",
        "if 'PlacedOrNot' in reference.columns and 'Gender' in reference.columns:\n",
        "    spd = statistical_parity_difference(reference['PlacedOrNot'], reference['Gender'])\n",
        "    di = disparate_impact_ratio(reference['PlacedOrNot'], reference['Gender'])\n",
        "\n",
        "    print(f\"Statistical parity difference: {spd:.3f}\")\n",
        "    print(f\"Disparate impact ratio: {di:.3f}\")\n",
        "else:\n",
        "    print(\"Columns 'PlacedOrNot' and 'Gender' not found in the reference data.\")"
      ]
    },
    {
      "cell_type": "code",
      "source": [],
      "metadata": {
        "id": "b1m7FeKJ8E-F"
      },
      "id": "b1m7FeKJ8E-F",
      "execution_count": null,
      "outputs": []
    }
  ],
  "metadata": {
    "colab": {
      "provenance": [],
      "toc_visible": true
    },
    "language_info": {
      "name": "python"
    },
    "kernelspec": {
      "name": "python3",
      "display_name": "Python 3"
    }
  },
  "nbformat": 4,
  "nbformat_minor": 5
}